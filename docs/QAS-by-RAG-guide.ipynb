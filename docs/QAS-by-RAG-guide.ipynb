{
 "cells": [
  {
   "cell_type": "markdown",
   "metadata": {},
   "source": [
    "# Question Answering System by Retrieval Augmented Generation\n",
    "\n",
    "### *Guide*\n",
    "\n",
    "Anton Antonov    \n",
    "September 2024  "
   ]
  },
  {
   "cell_type": "markdown",
   "metadata": {},
   "source": [
    "-----\n",
    "\n",
    "## Introduction"
   ]
  },
  {
   "cell_type": "markdown",
   "metadata": {},
   "source": [
    "This notebook shows how to import an LLM-computed vector database and then LLM-generate from it responses to certain queries."
   ]
  },
  {
   "cell_type": "markdown",
   "metadata": {},
   "source": [
    "-------\n",
    "\n",
    "## Setup"
   ]
  },
  {
   "cell_type": "code",
   "execution_count": 3,
   "metadata": {},
   "outputs": [],
   "source": [
    "use Data::Importers;\n",
    "use LLM::Configurations;\n",
    "use LLM::Functions;\n",
    "use XDG::BaseDirectory :terms;\n",
    "\n",
    "use LLM::RetrievalAugmentedGeneration;\n",
    "use LLM::RetrievalAugmentedGeneration::VectorDatabase;\n",
    "\n",
    "use Data::Reshapers;\n",
    "use Data::Summarizers;\n",
    "use Math::Nearest;\n",
    "use Math::DistanceFunctions;\n",
    "use Statistics::OutlierIdentifiers;"
   ]
  },
  {
   "cell_type": "markdown",
   "metadata": {},
   "source": [
    "-----\n",
    "\n",
    "## Import Vector Database"
   ]
  },
  {
   "cell_type": "markdown",
   "metadata": {},
   "source": [
    "In this section we import the vector database and do certain basic statistics over it."
   ]
  },
  {
   "cell_type": "markdown",
   "metadata": {},
   "source": [
    "Here we make and empty vector database object:"
   ]
  },
  {
   "cell_type": "code",
   "execution_count": 2,
   "metadata": {},
   "outputs": [
    {
     "data": {
      "text/plain": [
       "VectorDatabase(:id(\"d6093197-f28c-4345-82c7-43afbedfb492\"), :name(\"\"), :elements(0), :sources(0))"
      ]
     },
     "execution_count": 2,
     "metadata": {},
     "output_type": "execute_result"
    }
   ],
   "source": [
    "my $vdbObj = LLM::RetrievalAugmentedGeneration::VectorDatabase.new();"
   ]
  },
  {
   "cell_type": "markdown",
   "metadata": {},
   "source": [
    "Here using we form a file path for a previously computed (and exported) vector database using [`$XDG_DATA_HOME`](https://specifications.freedesktop.org/basedir-spec/latest/index.html):"
   ]
  },
  {
   "cell_type": "code",
   "execution_count": 4,
   "metadata": {},
   "outputs": [
    {
     "data": {
      "text/plain": [
       "True"
      ]
     },
     "execution_count": 4,
     "metadata": {},
     "output_type": "execute_result"
    }
   ],
   "source": [
    "# The sub-directory\n",
    "my $dirname = data-home.Str ~ '/raku/LLM/SemanticSearchIndex';\n",
    "\n",
    "# The exported vector database base file name\n",
    "my $basename = 'SemSe-603118ff-5738-4328-92cc-7aa2a261714d.json';\n",
    "\n",
    "# Corresponding IO:Path object\n",
    "my $file = IO::Path.new(:$dirname, :$basename);\n",
    "\n",
    "# Check for existence\n",
    "$file.f"
   ]
  },
  {
   "cell_type": "markdown",
   "metadata": {},
   "source": [
    "Import the vector database:"
   ]
  },
  {
   "cell_type": "code",
   "execution_count": 4,
   "metadata": {},
   "outputs": [
    {
     "name": "stdout",
     "output_type": "stream",
     "text": [
      "Import time 4.201005006 seconds.\n"
     ]
    }
   ],
   "source": [
    "my $tstart = now;\n",
    "\n",
    "$vdbObj.import($fileName);\n",
    "\n",
    "my $tend = now;\n",
    "\n",
    "say \"Import time { $tend - $tstart } seconds.\";"
   ]
  },
  {
   "cell_type": "code",
   "execution_count": 5,
   "metadata": {},
   "outputs": [
    {
     "name": "stdout",
     "output_type": "stream",
     "text": [
      "VectorDatabase(:id(\"\"), :name(\"No833\"), :elements(408), :sources(408))\n"
     ]
    }
   ],
   "source": [
    "say $vdbObj;"
   ]
  },
  {
   "cell_type": "markdown",
   "metadata": {},
   "source": [
    "Show text chunks sample:"
   ]
  },
  {
   "cell_type": "code",
   "execution_count": 6,
   "metadata": {},
   "outputs": [
    {
     "data": {
      "text/html": [
       "<ul><li><table border=\"1\"><tr><th>336.0</th><td>So it&#39;s a book from the 18 hundreds, and it is about a sphere that goes to visit a two dimensional world, a flatland. So in the two dimensional world, you have different shapes and the shapes denote the class.</td></tr></table></li><li><table border=\"1\"><tr><th>193.0</th><td>Yeah. Can you explain? Because it&#39;s one of the coolest things that I&#39;ve learned.</td></tr></table></li><li><table border=\"1\"><tr><th>406.0</th><td>I tried to do it. I tried to get that. The line of cocaine you said you didn&#39;t want when we went to the bathroom. Look, I&#39;m trying to embody my old club promoter world, but, dude, I really do appreciate you. I look forward to making sense of what happens over the next couple of months at some point next year.</td></tr></table></li></ul>"
      ]
     },
     "execution_count": 6,
     "metadata": {},
     "output_type": "execute_result"
    }
   ],
   "source": [
    "#% html\n",
    "$vdbObj.text-chunks.pick(3) ==> to-html()"
   ]
  },
  {
   "cell_type": "markdown",
   "metadata": {},
   "source": [
    "Show vector database dimensions:"
   ]
  },
  {
   "cell_type": "code",
   "execution_count": 7,
   "metadata": {},
   "outputs": [
    {
     "data": {
      "text/plain": [
       "(408 1536)"
      ]
     },
     "execution_count": 7,
     "metadata": {},
     "output_type": "execute_result"
    }
   ],
   "source": [
    "$vdbObj.database.&dimensions"
   ]
  },
  {
   "cell_type": "markdown",
   "metadata": {},
   "source": [
    "Show vectors' norms:"
   ]
  },
  {
   "cell_type": "code",
   "execution_count": 8,
   "metadata": {},
   "outputs": [
    {
     "data": {
      "text/plain": [
       "(1.0000000286751893 1.0000000280378905 1.000000056732192)"
      ]
     },
     "execution_count": 8,
     "metadata": {},
     "output_type": "execute_result"
    }
   ],
   "source": [
    "$vdbObj.database.pick(3).deepmap({ norm($_.value) })"
   ]
  },
  {
   "cell_type": "markdown",
   "metadata": {},
   "source": [
    "Here is a summary over all vectors:"
   ]
  },
  {
   "cell_type": "code",
   "execution_count": 9,
   "metadata": {},
   "outputs": [
    {
     "name": "stdout",
     "output_type": "stream",
     "text": [
      "+------------------------------+\n",
      "| numerical                    |\n",
      "+------------------------------+\n",
      "| 3rd-Qu => 1.0000000392624304 |\n",
      "| Mean   => 1.000000015594975  |\n",
      "| Median => 1.0000000139958338 |\n",
      "| Max    => 1.0000001113338148 |\n",
      "| 1st-Qu => 0.9999999920348879 |\n",
      "| Min    => 0.9999999106319158 |\n",
      "+------------------------------+\n"
     ]
    }
   ],
   "source": [
    "sink records-summary($vdbObj.database.values.map({ norm($_) }))"
   ]
  },
  {
   "cell_type": "markdown",
   "metadata": {},
   "source": [
    "------\n",
    "\n",
    "## Themes found in the text chunks"
   ]
  },
  {
   "cell_type": "markdown",
   "metadata": {},
   "source": [
    "The vector database object has the attributes:\n",
    "- `database` which is a `Map` of labels (identifiers) to LLM embedding vectors\n",
    "- `text-chunks` which is a `Map` of labels to text chunks that correspond to the embedding vectors\n",
    "\n",
    "(The keys of `database` and `text-chunks` are the same.)"
   ]
  },
  {
   "cell_type": "markdown",
   "metadata": {},
   "source": [
    "\n",
    "By examining the LLM-extracted themes from text chunks of the imported vector database, \n",
    "we see that the discussion they came from is [fairy eclectic](https://www.youtube.com/watch?v=PYRYXhU4kxM), [CWv1]:"
   ]
  },
  {
   "cell_type": "code",
   "execution_count": 15,
   "metadata": {},
   "outputs": [
    {
     "data": {
      "text/html": [
       "<table border=\"1\"><thead><tr><th>theme</th><th>content</th></tr></thead><tbody><tr><td align=left>Introduction and Guest Overview</td><td align=left>Introduction of Eric Weinstein, his background, and topics to be discussed.</td></tr><tr><td align=left>2024 Presidential Election</td><td align=left>Discussion on the 2024 election, Joe Biden, Donald Trump, and censorship.</td></tr><tr><td align=left>Rules-Based International Order</td><td align=left>Explanation of the international order and its impact on U.S. politics.</td></tr><tr><td align=left>Trump&#39;s Presidency and Populism</td><td align=left>Analysis of Trump&#39;s presidency, populism, and its effects on international alliances.</td></tr><tr><td align=left>Democracy Paradox</td><td align=left>Discussion on the paradox of democracy and institutional strength.</td></tr><tr><td align=left>Media Manipulation</td><td align=left>Insights on media manipulation, fake news, and the role of major news outlets.</td></tr><tr><td align=left>Conspiracy Theories</td><td align=left>Examination of conspiracy theories, responsible theorizing, and historical examples.</td></tr><tr><td align=left>Retconning and Managed Reality</td><td align=left>Discussion on retroactive continuity, managed reality, and the impact on public perception.</td></tr><tr><td align=left>Scientific Stagnation and String Theory</td><td align=left>Critique of string theory, scientific stagnation, and the need for new approaches.</td></tr><tr><td align=left>Criticism Capture</td><td align=left>Exploration of criticism capture, its effects on public figures, and the accuracy budget.</td></tr><tr><td align=left>High Agency and Personal Development</td><td align=left>Discussion on cultivating high agency, overcoming challenges, and personal anecdotes.</td></tr><tr><td align=left>Mathematical Concepts and Visualization</td><td align=left>Explanation of four-dimensional objects, mathematical visualization, and their significance.</td></tr><tr><td align=left>Upcoming Election and Political Climate</td><td align=left>Insights on the upcoming election, meme velocity, and political dynamics.</td></tr><tr><td align=left>Existential Risk and Reverence</td><td align=left>Concerns about existential risks, the importance of reverence, and cultural preservation.</td></tr><tr><td align=left>Closing Remarks</td><td align=left>Final thoughts, appreciation, and looking forward to future discussions.</td></tr></tbody></table>"
      ]
     },
     "execution_count": 15,
     "metadata": {},
     "output_type": "execute_result"
    }
   ],
   "source": [
    "#% html\n",
    "my $res = llm-synthesize([\n",
    "    llm-prompt(\"ThemeTableJSON\")(\n",
    "        $vdbObj.text-chunks.sort(*.key)».value.join(\"\\n\"), 'text', 15, \n",
    "    )\n",
    "    ],\n",
    "    e => $conf4o,\n",
    "    form => sub-parser('JSON'):drop\n",
    ");\n",
    "\n",
    "$res ==> to-html(field-names => <theme content>, align => 'left')"
   ]
  },
  {
   "cell_type": "markdown",
   "metadata": {},
   "source": [
    "**Remark:** It is instructive to compare the extracted themes with the list video segments given in [CWv1]. "
   ]
  },
  {
   "cell_type": "markdown",
   "metadata": {},
   "source": [
    "-----\n",
    "\n",
    "## Nearest neighbors finding"
   ]
  },
  {
   "cell_type": "markdown",
   "metadata": {},
   "source": [
    "Here is a query:"
   ]
  },
  {
   "cell_type": "code",
   "execution_count": 10,
   "metadata": {},
   "outputs": [
    {
     "data": {
      "text/plain": [
       "What is the state of string theory?"
      ]
     },
     "execution_count": 10,
     "metadata": {},
     "output_type": "execute_result"
    }
   ],
   "source": [
    "my $query = 'What is the state of string theory?';"
   ]
  },
  {
   "cell_type": "markdown",
   "metadata": {},
   "source": [
    "Here we find the labels of the vectors (and text chunks) that _considered_ nearest neighbors of certain query:"
   ]
  },
  {
   "cell_type": "code",
   "execution_count": 21,
   "metadata": {},
   "outputs": [
    {
     "data": {
      "text/plain": [
       "[(119.0 0.8134249468076029) (112.0 0.9080564755048836) (133.0 0.9377928180417803) (120.0 0.9573860154673669) (100.0 0.9909664988765275) (135.0 0.9922121082582246) (115.0 1.0233996483306704) (129.0 1.027231944845438) (131.0 1.033582027704631) (102.0 1.0574237432559146)]"
      ]
     },
     "execution_count": 21,
     "metadata": {},
     "output_type": "execute_result"
    }
   ],
   "source": [
    "my @nnLabels = $vdbObj.nearest($query, 10, prop => <label distance>, distance-function => &euclidean-distance)"
   ]
  },
  {
   "cell_type": "markdown",
   "metadata": {},
   "source": [
    "Here we make the corresponding dataset that included the text chunks from the vector database:"
   ]
  },
  {
   "cell_type": "code",
   "execution_count": 24,
   "metadata": {},
   "outputs": [
    {
     "data": {
      "text/plain": [
       "(10 3)"
      ]
     },
     "execution_count": 24,
     "metadata": {},
     "output_type": "execute_result"
    }
   ],
   "source": [
    "my @dsScores = @nnLabels.map({\n",
    "    %( label => $_[0], distance => $_[1], text => $vdbObj.text-chunks{$_[0]} )\n",
    "});\n",
    "\n",
    "@dsScores.&dimensions"
   ]
  },
  {
   "cell_type": "markdown",
   "metadata": {},
   "source": [
    "Here we show the dataset:"
   ]
  },
  {
   "cell_type": "code",
   "execution_count": 25,
   "metadata": {},
   "outputs": [
    {
     "data": {
      "text/html": [
       "<table border=\"1\"><thead><tr><th>distance</th><th>label</th><th>text</th></tr></thead><tbody><tr><td align=left>0.8134249468076029</td><td align=left>119.0</td><td align=left>But is somebody at the forefront of string theory?</td></tr><tr><td align=left>0.9080564755048836</td><td align=left>112.0</td><td align=left>It&#39;s not shiny. That is saying everything else is crap and dangerous. In other words, string theory can&#39;t sell itself as physics by any telling of the story. String theory is the most failed theory in the history of physics. If you look at the number of papers, the amount of money, the number of people, the number of PhDs, number of conferences, achievements in physics proper per investment or size of effort, it is the most failed theory in the history of physics. And the way in which it survives is by hunting and destroying its enemies and making its enemies dependent on them. We all have a circuit in our brain that we&#39;re going to run to the string theorists to talk about the problem with string theory because of peer review. It&#39;s like when I want to report the police department for being corrupt, you should go to the police with that. Wait, you&#39;re not understanding. So that&#39;s the problem.</td></tr><tr><td align=left>0.9377928180417803</td><td align=left>133.0</td><td align=left>And I saw a tweet saying that somebody had been to a string theory convention and had asked the question, what is string theory? And the best string theorists on the planet came up with the answer, we kind of don&#39;t know what string theory is.</td></tr><tr><td align=left>0.9573860154673669</td><td align=left>120.0</td><td align=left>And he said, quote, I can tell you with absolute certainty string theory is not the theory of the real world. I can tell you that 100%. My strong feelings are exactly that. String theory is definitely not the theory of the real world. Is that taking it out of context? Is that him framing it somewhere else? Or does that encapsulate the fact that he thinks string theory is a dead end that doesn&#39;t describe the world?</td></tr><tr><td align=left>0.9909664988765275</td><td align=left>100.0</td><td align=left>This is the big question. We don&#39;t know whether that we&#39;re talking about the stagnation of theoretical physics or just nuclear physics.</td></tr><tr><td align=left>0.9922121082582246</td><td align=left>135.0</td><td align=left>Yeah. Is this too far gone for string theory now, is it? The mask is beginning to slip to the point where even Ed Dutton is going to have to eat his words within the next decade.</td></tr><tr><td align=left>1.0233996483306704</td><td align=left>115.0</td><td align=left>I think I&#39;m just trying to say it&#39;s the problem with string theory, not the equations, not the shininess, not the advertising campaign. The problem is, look at how they treat everyone else. Everyone who is not a string theorist, who is trying to do stuff that could end up as a deemed export or as restricted data is covered and splattered in shit.</td></tr><tr><td align=left>1.027231944845438</td><td align=left>129.0</td><td align=left>Who else would you want to have a chat with the guys on the string theory side of the world?</td></tr><tr><td align=left>1.033582027704631</td><td align=left>131.0</td><td align=left>So I don&#39;t know much or anything really about the inner workings of string theory, but Sabine Hossenfeld has been on the show, Brian Greene&#39;s been on the show, Sean Carroll&#39;s been on the show.</td></tr><tr><td align=left>1.0574237432559146</td><td align=left>102.0</td><td align=left>I&#39;ll do the decision tree. One possibility is that they&#39;re simply saying that they made nuclear physics very, very difficult to do, and that has to do with not very sexy physics, the physics of protons and neutrons and nuclei. So that branch exists. The other branch says, we used string theory to cock block actual progress in theoretical physics and derailed an entire field, at least in public.</td></tr></tbody></table>"
      ]
     },
     "execution_count": 25,
     "metadata": {},
     "output_type": "execute_result"
    }
   ],
   "source": [
    "#% html\n",
    "@dsScores ==> to-html(field-names => <distance label text>, align => 'left');"
   ]
  },
  {
   "cell_type": "markdown",
   "metadata": {},
   "source": [
    "-----\n",
    "\n",
    "## Nearest neighbors finding (low-level)"
   ]
  },
  {
   "cell_type": "markdown",
   "metadata": {},
   "source": [
    "In this section we show how to find the elements of the vector database that are _considered_ nearest neighbors to the query vector. \n",
    "We use \"low-level\" computations for didactic purposes.\n",
    "Same or similar results can be obtained by using the method `nearest` of the vector database object."
   ]
  },
  {
   "cell_type": "markdown",
   "metadata": {},
   "source": [
    "Here is its vector embedding (with the same LLM that was used to compute the vector database):"
   ]
  },
  {
   "cell_type": "code",
   "execution_count": 27,
   "metadata": {},
   "outputs": [
    {
     "data": {
      "text/plain": [
       "1536"
      ]
     },
     "execution_count": 27,
     "metadata": {},
     "output_type": "execute_result"
    }
   ],
   "source": [
    "my @query-vector = |llm-embedding($query, llm-evaluator => $vdbObj.llm-configuration).head;\n",
    "\n",
    "@query-vector.elems"
   ]
  },
  {
   "cell_type": "markdown",
   "metadata": {},
   "source": [
    "For each vector in the database find its distance to the query vector:"
   ]
  },
  {
   "cell_type": "code",
   "execution_count": 28,
   "metadata": {},
   "outputs": [
    {
     "data": {
      "text/plain": [
       "(408 3)"
      ]
     },
     "execution_count": 28,
     "metadata": {},
     "output_type": "execute_result"
    }
   ],
   "source": [
    "my @dsScores =\n",
    "        $vdbObj.database.map({ %(\n",
    "            label => $_.key,\n",
    "            distance => euclidean-distance($_.value, @query-vector),\n",
    "            text => $vdbObj.text-chunks{$_.key}\n",
    "        ) }).Array;\n",
    "\n",
    "@dsScores.&dimensions"
   ]
  },
  {
   "cell_type": "markdown",
   "metadata": {},
   "source": [
    "Sort in ascending order:"
   ]
  },
  {
   "cell_type": "code",
   "execution_count": 29,
   "metadata": {},
   "outputs": [
    {
     "data": {
      "text/plain": [
       "(0.8135070843089548 0.9081004694861233 0.9377962967576634 0.9573803222849635 0.9910115736190397 0.992206146436619)"
      ]
     },
     "execution_count": 29,
     "metadata": {},
     "output_type": "execute_result"
    }
   ],
   "source": [
    "@dsScores .= sort({ $_<distance> });\n",
    "\n",
    "@dsScores.map(*<distance>).head(6)"
   ]
  },
  {
   "cell_type": "markdown",
   "metadata": {},
   "source": [
    "Show the text chunks closest to the query:"
   ]
  },
  {
   "cell_type": "code",
   "execution_count": 30,
   "metadata": {},
   "outputs": [
    {
     "data": {
      "text/html": [
       "<table border=\"1\"><thead><tr><th>distance</th><th>label</th><th>text</th></tr></thead><tbody><tr><td align=left>0.8135070843089548</td><td align=left>119.0</td><td align=left>But is somebody at the forefront of string theory?</td></tr><tr><td align=left>0.9081004694861233</td><td align=left>112.0</td><td align=left>It&#39;s not shiny. That is saying everything else is crap and dangerous. In other words, string theory can&#39;t sell itself as physics by any telling of the story. String theory is the most failed theory in the history of physics. If you look at the number of papers, the amount of money, the number of people, the number of PhDs, number of conferences, achievements in physics proper per investment or size of effort, it is the most failed theory in the history of physics. And the way in which it survives is by hunting and destroying its enemies and making its enemies dependent on them. We all have a circuit in our brain that we&#39;re going to run to the string theorists to talk about the problem with string theory because of peer review. It&#39;s like when I want to report the police department for being corrupt, you should go to the police with that. Wait, you&#39;re not understanding. So that&#39;s the problem.</td></tr><tr><td align=left>0.9377962967576634</td><td align=left>133.0</td><td align=left>And I saw a tweet saying that somebody had been to a string theory convention and had asked the question, what is string theory? And the best string theorists on the planet came up with the answer, we kind of don&#39;t know what string theory is.</td></tr><tr><td align=left>0.9573803222849635</td><td align=left>120.0</td><td align=left>And he said, quote, I can tell you with absolute certainty string theory is not the theory of the real world. I can tell you that 100%. My strong feelings are exactly that. String theory is definitely not the theory of the real world. Is that taking it out of context? Is that him framing it somewhere else? Or does that encapsulate the fact that he thinks string theory is a dead end that doesn&#39;t describe the world?</td></tr><tr><td align=left>0.9910115736190397</td><td align=left>100.0</td><td align=left>This is the big question. We don&#39;t know whether that we&#39;re talking about the stagnation of theoretical physics or just nuclear physics.</td></tr><tr><td align=left>0.992206146436619</td><td align=left>135.0</td><td align=left>Yeah. Is this too far gone for string theory now, is it? The mask is beginning to slip to the point where even Ed Dutton is going to have to eat his words within the next decade.</td></tr><tr><td align=left>1.0233900207921507</td><td align=left>115.0</td><td align=left>I think I&#39;m just trying to say it&#39;s the problem with string theory, not the equations, not the shininess, not the advertising campaign. The problem is, look at how they treat everyone else. Everyone who is not a string theorist, who is trying to do stuff that could end up as a deemed export or as restricted data is covered and splattered in shit.</td></tr><tr><td align=left>1.0272712184226906</td><td align=left>129.0</td><td align=left>Who else would you want to have a chat with the guys on the string theory side of the world?</td></tr><tr><td align=left>1.0336534449821548</td><td align=left>131.0</td><td align=left>So I don&#39;t know much or anything really about the inner workings of string theory, but Sabine Hossenfeld has been on the show, Brian Greene&#39;s been on the show, Sean Carroll&#39;s been on the show.</td></tr><tr><td align=left>1.057460017810909</td><td align=left>102.0</td><td align=left>I&#39;ll do the decision tree. One possibility is that they&#39;re simply saying that they made nuclear physics very, very difficult to do, and that has to do with not very sexy physics, the physics of protons and neutrons and nuclei. So that branch exists. The other branch says, we used string theory to cock block actual progress in theoretical physics and derailed an entire field, at least in public.</td></tr><tr><td align=left>1.0621091872767383</td><td align=left>118.0</td><td align=left>He&#39;s very, very smart, and he&#39;s one of the most important string theorists ever, and he writes exceptionally clear and correct introductory books. Okay, but he is not a leading physicist.</td></tr><tr><td align=left>1.0630691390951843</td><td align=left>160.0</td><td align=left>So Kurt says, well, what do you think of Lee Smolin, Stephen Wolf from Eric Weinstein and Peter Woight? And Sean Carroll very deftly says, oh, I wouldn&#39;t put Lee Smolin in with them. The others are amateurs. Lee Smolin is a serious physicist. Peter White just wrote one of the greatest books in physics and mathematics I&#39;ve ever seen. A comprehensive guide to the role of group theory within the quantum symmetry within the quantum. Nobody knew that this guy had this in him. He was running this blog, and it was an excellent blog. Everybody in the community reads it, and many people pretend that they don&#39;t because it&#39;s very critical of string theory. But he&#39;s very, very good. Then he writes a book like this. Nobody saw it coming. Then he comes up with two theories, both of which I think are wrong, but are really, really clever, about the nature of the strong force, what would be called weaker hypercharge, and what would be called weak isospin and the origin of the left right asymmetry of the universe called chirality. And when I ask these critics, they have no idea what these theories are. It took me, like, 15 to 45 minutes to get the basic idea of both.</td></tr></tbody></table>"
      ]
     },
     "execution_count": 30,
     "metadata": {},
     "output_type": "execute_result"
    }
   ],
   "source": [
    "#% html\n",
    "@dsScores.head(12) ==> to-html(field-names => <distance label text>, align => 'left');\n"
   ]
  },
  {
   "cell_type": "markdown",
   "metadata": {},
   "source": [
    "Show the nearest neighbors scores (with the chosen distance function):"
   ]
  },
  {
   "cell_type": "code",
   "execution_count": 31,
   "metadata": {},
   "outputs": [
    {
     "data": {
      "text/plain": [
       "+----+---------------------+---------------------+--------------------+---------------------+------+      \n",
       "+                                                                                                  +  1.50\n",
       "+                                                                                         ****     +  1.40\n",
       "|                                                           *******************************        |      \n",
       "+                            *******************************                                       +  1.30\n",
       "|               **************                                                                     |      \n",
       "+          ******                                                                                  +  1.20\n",
       "|        ***                                                                                       |      \n",
       "+       **                                                                                         +  1.10\n",
       "|      **                                                                                          |      \n",
       "+     **                                                                                           +  1.00\n",
       "|     *                                                                                            |      \n",
       "+     *                                                                                            +  0.90\n",
       "|    *                                                                                             |      \n",
       "+                                                                                                  +  0.80\n",
       "+----+---------------------+---------------------+--------------------+---------------------+------+      \n",
       "     0.00                  100.00                200.00               300.00                400.00        "
      ]
     },
     "execution_count": 31,
     "metadata": {},
     "output_type": "execute_result"
    }
   ],
   "source": [
    "text-list-plot(@dsScores.map(*<distance>), width => 100, height => 16)"
   ]
  },
  {
   "cell_type": "markdown",
   "metadata": {},
   "source": [
    "From the plot we can see that there are clear outliers. Here are find outliers' positions, [AA1, AAp8]:"
   ]
  },
  {
   "cell_type": "code",
   "execution_count": 32,
   "metadata": {},
   "outputs": [
    {
     "data": {
      "text/plain": [
       "64"
      ]
     },
     "execution_count": 32,
     "metadata": {},
     "output_type": "execute_result"
    }
   ],
   "source": [
    "my @pos = outlier-identifier(@dsScores.map(*<distance>), identifier => (&bottom-outliers o &quartile-identifier-parameters));\n",
    "\n",
    "@pos.max"
   ]
  },
  {
   "cell_type": "markdown",
   "metadata": {},
   "source": [
    "**Remark:** We show only the max outlier position since the distances are sorted in ascending order."
   ]
  },
  {
   "cell_type": "markdown",
   "metadata": {},
   "source": [
    "**Remark:** The outlier identifiers `&hampel-identifier-parameters` and `&splus-quartile-identifier-parameters` give 84 and 22 outliers, respectively."
   ]
  },
  {
   "cell_type": "markdown",
   "metadata": {},
   "source": [
    "The text chunks correspond to the found outliers are considered most relevant to the query and can be used to form prompt LLM answers for the query."
   ]
  },
  {
   "cell_type": "markdown",
   "metadata": {},
   "source": [
    "-----\n",
    "\n",
    "## Answer based on nearest neighbors"
   ]
  },
  {
   "cell_type": "markdown",
   "metadata": {},
   "source": [
    "Generate an answer:"
   ]
  },
  {
   "cell_type": "code",
   "execution_count": 47,
   "metadata": {},
   "outputs": [
    {
     "data": {
      "text/markdown": [
       "The state of string theory, once a shining beacon of hope in the realm of theoretical physics, has become a subject of intense debate and controversy. At the forefront of this discussion are prominent figures like Sabine Hossenfelder, Brian Greene, and Sean Carroll, who have all weighed in on the matter, each bringing their unique perspectives and criticisms.\n",
       "\n",
       "String theory, which once promised to be the \"theory of everything,\" has struggled to deliver on its grandiose claims. Despite the vast number of papers, conferences, and PhDs dedicated to it, the theory has yet to produce concrete, verifiable predictions that align with the physical world. Critics argue that it has become the most failed theory in the history of physics, given the immense resources invested in it compared to its tangible achievements.\n",
       "\n",
       "The theory's survival seems to hinge on a combination of academic politics and a reluctance to abandon a once-promising idea. String theorists have been accused of stifling alternative approaches and maintaining their dominance through peer review and academic gatekeeping. This has led to a situation where even asking fundamental questions about the validity of string theory can be seen as a career risk.\n",
       "\n",
       "A telling anecdote from a recent string theory convention highlights the theory's current predicament. When asked, \"What is string theory?\" the best minds in the field could only muster a vague, uncertain response: \"We kind of don't know what string theory is.\" This admission underscores the theory's ambiguous status and the growing frustration among physicists who feel that string theory has diverted attention from more promising avenues of research.\n",
       "\n",
       "Prominent critics like Peter Woit and Lee Smolin have been vocal about the shortcomings of string theory. Woit, in particular, has gained recognition for his comprehensive critiques and alternative theories, which, while controversial, have sparked important discussions about the direction of theoretical physics.\n",
       "\n",
       "On the other hand, defenders of string theory, such as Leonard Susskind, argue that the mathematical elegance and potential insights offered by the theory should not be dismissed outright. However, even Susskind's staunchest supporters acknowledge that the theory has not yet fulfilled its promise and that its proponents must answer for the decades of unfulfilled expectations.\n",
       "\n",
       "The debate over string theory also reflects broader issues within the scientific community. The focus on high-profile, speculative theories has sometimes overshadowed more pragmatic, experimentally verifiable research. This has led to calls for a reevaluation of funding priorities and a renewed emphasis on empirical science.\n",
       "\n",
       "In conclusion, the state of string theory is one of uncertainty and introspection. While it remains a topic of significant interest and debate, its future is unclear. Theoretical physics may need to pivot towards new ideas and approaches, leaving behind the allure of string theory in favor of more grounded, experimentally verifiable pursuits. The coming years will likely see a continued reevaluation of string theory's place in the scientific landscape, as physicists seek to balance the allure of elegant mathematics with the demands of empirical validation."
      ]
     },
     "execution_count": 47,
     "metadata": {},
     "output_type": "execute_result"
    }
   ],
   "source": [
    "#% markdown\n",
    "my $answer = llm-synthesize([\n",
    "    'Come up with a narration answering this question:',\n",
    "    $query,\n",
    "    \"using these discussion statements:\",\n",
    "    @dsScores.head(40).map(*<text>).join(\"\\n\")\n",
    "    ],\n",
    "    e => $conf4o\n",
    ");\n",
    "\n",
    "$answer"
   ]
  },
  {
   "cell_type": "markdown",
   "metadata": {},
   "source": [
    "-------\n",
    "\n",
    "## References"
   ]
  },
  {
   "cell_type": "markdown",
   "metadata": {},
   "source": [
    "### Articles\n",
    "\n",
    "[AA1] Anton Antonov, \n",
    "[\"Outlier detection in a list of numbers\"](https://rakuforprediction.wordpress.com/2022/05/29/outlier-detection-in-a-list-of-numbers/),\n",
    "(2022),\n",
    "[RakuForPrediction at WordPress](https://rakuforprediction.wordpress.com)."
   ]
  },
  {
   "cell_type": "markdown",
   "metadata": {},
   "source": [
    "### Packages\n",
    "\n",
    "[AAp1] Anton Antonov,\n",
    "[WWW::OpenAI Raku package](https://github.com/antononcube/Raku-WWW-OpenAI),\n",
    "(2023),\n",
    "[GitHub/antononcube](https://github.com/antononcube).\n",
    "\n",
    "[AAp2] Anton Antonov,\n",
    "[WWW::PaLM Raku package](https://github.com/antononcube/Raku-WWW-PaLM),\n",
    "(2023),\n",
    "[GitHub/antononcube](https://github.com/antononcube).\n",
    "\n",
    "[AAp3] Anton Antonov,\n",
    "[LLM::Functions Raku package](https://github.com/antononcube/Raku-LLM-Functions),\n",
    "(2023-2024),\n",
    "[GitHub/antononcube](https://github.com/antononcube).\n",
    "\n",
    "[AAp4] Anton Antonov,\n",
    "[LLM::Prompts Raku package](https://github.com/antononcube/Raku-LLM-Prompts),\n",
    "(2023-2024),\n",
    "[GitHub/antononcube](https://github.com/antononcube).\n",
    "\n",
    "[AAp5] Anton Antonov,\n",
    "[ML::FindTextualAnswer Raku package](https://github.com/antononcube/Raku-ML-FindTextualAnswer),\n",
    "(2023-2024),\n",
    "[GitHub/antononcube](https://github.com/antononcube).\n",
    "\n",
    "[AAp6] Anton Antonov,\n",
    "[Math::Nearest Raku package](https://github.com/antononcube/Raku-Math-Nearest),\n",
    "(2024),\n",
    "[GitHub/antononcube](https://github.com/antononcube).\n",
    "\n",
    "[AAp7] Anton Antonov,\n",
    "[Math::DistanceFunctions Raku package](https://github.com/antononcube/Raku-Math-DistanceFunctions),\n",
    "(2024),\n",
    "[GitHub/antononcube](https://github.com/antononcube).\n",
    "\n",
    "[AAp8] Anton Antonov,\n",
    "[Statistics::OutlierIdentifiers Raku package](https://github.com/antononcube/Raku-Statistics-OutlierIdentifiers),\n",
    "(2022),\n",
    "[GitHub/antononcube](https://github.com/antononcube)."
   ]
  },
  {
   "cell_type": "markdown",
   "metadata": {},
   "source": [
    "## Videos\n",
    "\n",
    "[CWv1] Chris Williamson,\n",
    "[\"Eric Weinstein - Are We On The Brink Of A Revolution? (4K)\"](https://www.youtube.com/watch?v=PYRYXhU4kxM),\n",
    "(2024),\n",
    "[YouTube/@ChrisWillx](https://www.youtube.com/@ChrisWillx).   \n",
    "([transcript](https://podscripts.co/podcasts/modern-wisdom/833-eric-weinstein-are-we-on-the-brink-of-a-revolution).)"
   ]
  }
 ],
 "metadata": {
  "kernelspec": {
   "display_name": "RakuChatbook",
   "language": "raku",
   "name": "raku"
  },
  "language_info": {
   "file_extension": ".raku",
   "mimetype": "text/x-raku",
   "name": "raku",
   "version": "6.d"
  }
 },
 "nbformat": 4,
 "nbformat_minor": 2
}
