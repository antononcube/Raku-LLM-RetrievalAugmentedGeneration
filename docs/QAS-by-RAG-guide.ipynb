{
 "cells": [
  {
   "cell_type": "markdown",
   "metadata": {},
   "source": [
    "# Question Answering System by Retrieval Augmented Generation\n",
    "\n",
    "### *Guide*\n",
    "\n",
    "Anton Antonov    \n",
    "September 2024  "
   ]
  },
  {
   "cell_type": "markdown",
   "metadata": {},
   "source": [
    "-----\n",
    "\n",
    "## Introduction"
   ]
  },
  {
   "cell_type": "markdown",
   "metadata": {},
   "source": [
    "This notebook shows how to import an LLM-computed vector database and then LLM-generate from it responses to certain queries."
   ]
  },
  {
   "cell_type": "markdown",
   "metadata": {},
   "source": [
    "-------\n",
    "\n",
    "## Setup"
   ]
  },
  {
   "cell_type": "markdown",
   "metadata": {},
   "source": [
    "Packages used below:"
   ]
  },
  {
   "cell_type": "code",
   "execution_count": 1,
   "metadata": {},
   "outputs": [],
   "source": [
    "use Data::Importers;\n",
    "use LLM::Functions;\n",
    "use XDG::BaseDirectory :terms;\n",
    "\n",
    "use LLM::RetrievalAugmentedGeneration;\n",
    "use LLM::RetrievalAugmentedGeneration::VectorDatabase;\n",
    "\n",
    "use Data::Reshapers;\n",
    "use Data::Summarizers;\n",
    "use Math::Nearest;\n",
    "use Math::DistanceFunctions::Native;\n",
    "use Statistics::OutlierIdentifiers;"
   ]
  },
  {
   "cell_type": "markdown",
   "metadata": {},
   "source": [
    "A special LLM configuration:"
   ]
  },
  {
   "cell_type": "code",
   "execution_count": 2,
   "metadata": {},
   "outputs": [
    {
     "data": {
      "text/plain": [
       "24"
      ]
     },
     "execution_count": 2,
     "metadata": {},
     "output_type": "execute_result"
    }
   ],
   "source": [
    "my $conf4o = llm-configuration('ChatGPT', model => 'gpt-4o', max-tokens => 4096, temperature => 0.4);\n",
    "$conf4o.Hash.elems"
   ]
  },
  {
   "cell_type": "markdown",
   "metadata": {},
   "source": [
    "-----\n",
    "\n",
    "## Import Vector Database"
   ]
  },
  {
   "cell_type": "markdown",
   "metadata": {},
   "source": [
    "In this section we import the vector database and do certain basic statistics over it."
   ]
  },
  {
   "cell_type": "markdown",
   "metadata": {},
   "source": [
    "Here we make and empty vector database object:"
   ]
  },
  {
   "cell_type": "code",
   "execution_count": 3,
   "metadata": {},
   "outputs": [
    {
     "data": {
      "text/plain": [
       "VectorDatabase(:id(\"063df67b-9403-4801-8b08-dab703aa01ce\"), :name(\"\"), :elements(0), :sources(0))"
      ]
     },
     "execution_count": 3,
     "metadata": {},
     "output_type": "execute_result"
    }
   ],
   "source": [
    "my $vdbObj = LLM::RetrievalAugmentedGeneration::VectorDatabase.new();"
   ]
  },
  {
   "cell_type": "markdown",
   "metadata": {},
   "source": [
    "We can see the available _pre-computed_ vector databases with `vector-database-objects`:"
   ]
  },
  {
   "cell_type": "code",
   "execution_count": 4,
   "metadata": {},
   "outputs": [
    {
     "data": {
      "text/plain": [
       "[SemSe-266b20ca-d917-4ac0-9b0a-7c420625666c.json SemSe-44f19858-730e-4b96-86b7-81e701f9df8f.json SemSe-d2effebc-2cef-4b2b-84ca-5dcfa3c1864b.json]"
      ]
     },
     "execution_count": 4,
     "metadata": {},
     "output_type": "execute_result"
    }
   ],
   "source": [
    "vector-database-objects».basename"
   ]
  },
  {
   "cell_type": "markdown",
   "metadata": {},
   "source": [
    "Here using we form a file path for a previously computed (and exported) vector database using [`$XDG_DATA_HOME`](https://specifications.freedesktop.org/basedir-spec/latest/index.html):"
   ]
  },
  {
   "cell_type": "code",
   "execution_count": 5,
   "metadata": {},
   "outputs": [
    {
     "data": {
      "text/plain": [
       "True"
      ]
     },
     "execution_count": 5,
     "metadata": {},
     "output_type": "execute_result"
    }
   ],
   "source": [
    "# The sub-directory\n",
    "my $dirname = data-home.Str ~ '/raku/LLM/SemanticSearchIndex';\n",
    "\n",
    "# The exported vector database base file name\n",
    "my $basename = 'SemSe-266b20ca-d917-4ac0-9b0a-7c420625666c.json';\n",
    "\n",
    "# Corresponding IO:Path object\n",
    "my $file = IO::Path.new(:$dirname, :$basename);\n",
    "\n",
    "# Check for existence\n",
    "$file.f"
   ]
  },
  {
   "cell_type": "markdown",
   "metadata": {},
   "source": [
    "Import the vector database:"
   ]
  },
  {
   "cell_type": "code",
   "execution_count": 6,
   "metadata": {},
   "outputs": [
    {
     "name": "stdout",
     "output_type": "stream",
     "text": [
      "Import time 4.546344247 seconds.\n"
     ]
    }
   ],
   "source": [
    "my $tstart = now;\n",
    "\n",
    "$vdbObj.import($file);\n",
    "\n",
    "my $tend = now;\n",
    "\n",
    "say \"Import time { $tend - $tstart } seconds.\";"
   ]
  },
  {
   "cell_type": "markdown",
   "metadata": {},
   "source": [
    "Here is the vector database object's _gist_:"
   ]
  },
  {
   "cell_type": "code",
   "execution_count": 7,
   "metadata": {},
   "outputs": [
    {
     "name": "stdout",
     "output_type": "stream",
     "text": [
      "VectorDatabase(:id(\"266b20ca-d917-4ac0-9b0a-7c420625666c\"), :name(\"No833\"), :elements(441), :sources(442))\n"
     ]
    }
   ],
   "source": [
    "say $vdbObj;"
   ]
  },
  {
   "cell_type": "markdown",
   "metadata": {},
   "source": [
    "Show text chunks sample:"
   ]
  },
  {
   "cell_type": "code",
   "execution_count": 8,
   "metadata": {},
   "outputs": [
    {
     "data": {
      "text/html": [
       "<ul><li><table border=\"1\"><tr><th>131.0</th><td>So these people, and I want to specifically call out the most aggressive of them, Lubos, Lubos, modal, Michio Kaku, Leonard Susskind, uh, Jeff Harvey, Michael Duff, uh, Andy Strominger, Kumer and Vafa have been on a tear that nothing else exists, destroying 40 years of competitors. And what does the bride say to Bill? Said, you and I have unfinished business. That&#39;s where we are right now.</td></tr></table></li><li><table border=\"1\"><tr><th>341.0</th><td>Typically, um, it&#39;s not much MacGyvering, but I came off a moped in Bali, uh, and managed to lose the skin on basically the entire left-hand side of my body, Balinese road versus me in a tiny pair of swim shorts. And I lost, um, first round TKO. And I needed to come up with a solution to be able to get myself, uh, looked after while I was out there in terms of sort of healthcare, I needed to kind of manage my own, um, the protocol that I was going through.</td></tr></table></li><li><table border=\"1\"><tr><th>092.0</th><td>What if the idea is that an outbreak of truth and democracy would destroy NATO and the world order? Let&#39;s imagine that that would undo the markets that would spread nukes. You know, what happens if, if ending, uh, the control of social media would mean that weaponized anthrax plant plans could be spread frictionlessly. If four amino acids lead to worldwide lockdowns,</td></tr></table></li></ul>"
      ]
     },
     "execution_count": 8,
     "metadata": {},
     "output_type": "execute_result"
    }
   ],
   "source": [
    "#% html\n",
    "$vdbObj.text-chunks.pick(3) ==> to-html()"
   ]
  },
  {
   "cell_type": "markdown",
   "metadata": {},
   "source": [
    "Show vector database dimensions:"
   ]
  },
  {
   "cell_type": "code",
   "execution_count": 9,
   "metadata": {},
   "outputs": [
    {
     "data": {
      "text/plain": [
       "(441 1536)"
      ]
     },
     "execution_count": 9,
     "metadata": {},
     "output_type": "execute_result"
    }
   ],
   "source": [
    "$vdbObj.database.&dimensions"
   ]
  },
  {
   "cell_type": "markdown",
   "metadata": {},
   "source": [
    "Show vectors' norms:"
   ]
  },
  {
   "cell_type": "code",
   "execution_count": 10,
   "metadata": {},
   "outputs": [
    {
     "data": {
      "text/plain": [
       "(0.9999999277398991 1.0000000395398303 0.9999999839403343)"
      ]
     },
     "execution_count": 10,
     "metadata": {},
     "output_type": "execute_result"
    }
   ],
   "source": [
    "$vdbObj.database.pick(3).deepmap({ norm($_.value) })"
   ]
  },
  {
   "cell_type": "markdown",
   "metadata": {},
   "source": [
    "Here is a summary over all vectors:"
   ]
  },
  {
   "cell_type": "code",
   "execution_count": 11,
   "metadata": {},
   "outputs": [
    {
     "name": "stdout",
     "output_type": "stream",
     "text": [
      "+------------------------------+\n",
      "| numerical                    |\n",
      "+------------------------------+\n",
      "| 3rd-Qu => 1.0000000370665862 |\n",
      "| Median => 1.000000012338632  |\n",
      "| 1st-Qu => 0.9999999894227214 |\n",
      "| Mean   => 1.0000000117763137 |\n",
      "| Min    => 0.9999999127751142 |\n",
      "| Max    => 1.000000100169172  |\n",
      "+------------------------------+\n"
     ]
    }
   ],
   "source": [
    "sink records-summary($vdbObj.database.values.map({ norm($_) }))"
   ]
  },
  {
   "cell_type": "markdown",
   "metadata": {},
   "source": [
    "------\n",
    "\n",
    "## Themes found in the text chunks"
   ]
  },
  {
   "cell_type": "markdown",
   "metadata": {},
   "source": [
    "The vector database object has the attributes:\n",
    "- `database` which is a `Map` of labels (identifiers) to LLM embedding vectors\n",
    "- `text-chunks` which is a `Map` of labels to text chunks that correspond to the embedding vectors\n",
    "\n",
    "(The keys of `database` and `text-chunks` are the same.)"
   ]
  },
  {
   "cell_type": "markdown",
   "metadata": {},
   "source": [
    "\n",
    "By examining the LLM-extracted themes from text chunks of the imported vector database, \n",
    "we see that the discussion they came from is [fairy eclectic](https://www.youtube.com/watch?v=PYRYXhU4kxM), [CWv1]:"
   ]
  },
  {
   "cell_type": "code",
   "execution_count": 12,
   "metadata": {},
   "outputs": [
    {
     "data": {
      "text/html": [
       "()"
      ]
     },
     "execution_count": 12,
     "metadata": {},
     "output_type": "execute_result"
    }
   ],
   "source": [
    "#% html\n",
    "# my $res = llm-synthesize([\n",
    "#     llm-prompt(\"ThemeTableJSON\")(\n",
    "#         $vdbObj.text-chunks.sort(*.key)».value.join(\"\\n\"), 'text', 15, \n",
    "#     )\n",
    "#     ],\n",
    "#     e => $conf4o,\n",
    "#     form => sub-parser('JSON'):drop\n",
    "# );\n",
    "\n",
    "# $res ==> to-html(field-names => <theme content>, align => 'left')"
   ]
  },
  {
   "cell_type": "markdown",
   "metadata": {},
   "source": [
    "**Remark:** It is instructive to compare the extracted themes with the list video segments given in [CWv1]. "
   ]
  },
  {
   "cell_type": "markdown",
   "metadata": {},
   "source": [
    "-----\n",
    "\n",
    "## Nearest neighbors finding"
   ]
  },
  {
   "cell_type": "markdown",
   "metadata": {},
   "source": [
    "Here is a query:"
   ]
  },
  {
   "cell_type": "code",
   "execution_count": 13,
   "metadata": {},
   "outputs": [
    {
     "data": {
      "text/plain": [
       "What is the state of string theory?"
      ]
     },
     "execution_count": 13,
     "metadata": {},
     "output_type": "execute_result"
    }
   ],
   "source": [
    "my $query = 'What is the state of string theory?';"
   ]
  },
  {
   "cell_type": "markdown",
   "metadata": {},
   "source": [
    "Here we find the labels of the vectors (and text chunks) that _considered_ nearest neighbors of certain query:"
   ]
  },
  {
   "cell_type": "code",
   "execution_count": 17,
   "metadata": {},
   "outputs": [
    {
     "data": {
      "text/plain": [
       "Vector(Tuple([Atom((Str)), Atom((Numeric))]), 10)"
      ]
     },
     "execution_count": 17,
     "metadata": {},
     "output_type": "execute_result"
    }
   ],
   "source": [
    "my @nnLabels = $vdbObj.nearest($query, 10, prop => <label distance>, distance-function => &euclidean-distance);\n",
    "\n",
    "@nnLabels ==> deduce-type"
   ]
  },
  {
   "cell_type": "markdown",
   "metadata": {},
   "source": [
    "**Remark:** Note that parallel execution was specified with `degree => 4`."
   ]
  },
  {
   "cell_type": "markdown",
   "metadata": {},
   "source": [
    "Here we make the corresponding dataset that included the text chunks from the vector database:"
   ]
  },
  {
   "cell_type": "code",
   "execution_count": 15,
   "metadata": {},
   "outputs": [
    {
     "data": {
      "text/plain": [
       "(10 3)"
      ]
     },
     "execution_count": 15,
     "metadata": {},
     "output_type": "execute_result"
    }
   ],
   "source": [
    "my @dsScores = @nnLabels.map({\n",
    "    %( label => $_[0], distance => $_[1], text => $vdbObj.text-chunks{$_[0]} )\n",
    "});\n",
    "\n",
    "@dsScores.&dimensions"
   ]
  },
  {
   "cell_type": "markdown",
   "metadata": {},
   "source": [
    "Here we show the dataset:"
   ]
  },
  {
   "cell_type": "code",
   "execution_count": 16,
   "metadata": {},
   "outputs": [
    {
     "data": {
      "text/html": [
       "<table border=\"1\"><thead><tr><th>distance</th><th>label</th><th>text</th></tr></thead><tbody><tr><td align=left>0.9066497922547331</td><td align=left>126.0</td><td align=left>But is somebody at the forefront of string theory? Absolutely. And he said, quote, I can tell you with absolute certainty, string theory is not the theory of the real world. I can tell you that 100%. My strong feelings are exactly that string theory is definitely not the theory of the real world. I can tell you that 100%. My strong feelings are exactly that string theory is definitely not the theory of the real world. Is that taking it out of context? Is that him framing it somewhere else? Or does that encapsulate the fact</td></tr><tr><td align=left>0.9300617435311277</td><td align=left>139.0</td><td align=left>And I saw a tweet saying that somebody had been to a string theory convention and had asked the question, what is string theory? And the best string theorists on the planet came up with the answer, we kind of don&#39;t know what string theory is. And the other answer is whatever it is that we&#39;re doing. Whatever it is that the string theory community is doing. Even if they did something that had nothing to do with string theory,</td></tr><tr><td align=left>0.9664587454301751</td><td align=left>121.0</td><td align=left>That is not shiny. That is saying everything else is crap and dangerous. In other words, it&#39;s string theory can&#39;t sell itself as physics. By any telling of the story, string theory is the most failed theory in the history of physics. If you look at the number of papers, the amount of money, the number of people, the number of PhDs, number of conferences, achievements in physics proper per investment or size of effort. It is the most failed theory in the history of physics and the way in which it survives is by hunting and destroying its enemies and making its</td></tr><tr><td align=left>0.9696634612292705</td><td align=left>112.0</td><td align=left>We don&#39;t know whether that we&#39;re talking about the stagnation of theoretical physics or just nuclear physics. You&#39;re okay with speculating. Let&#39;s speculate. I&#39;ll do the decision tree. One possibility is that they&#39;re simply saying that they made nuclear physics very, very difficult to do. And that has to do with not very sexy physics, the physics of protons and neutrons in nuclear. So that branch exists. The other branch says, um, we used string theory to cock block actual progress in theoretical physics and derailed an entire field, at least</td></tr><tr><td align=left>1.0089680302214683</td><td align=left>162.0</td><td align=left>Everybody in the community reads it and many people pretend that they don&#39;t because it&#39;s very critical of string theory, but he&#39;s very, very good. Then he writes a book like this. Nobody saw it coming. Then he comes up with two theories, both of which I of string theory, but he&#39;s very, very good. Then he writes a book like this, nobody saw it coming. Then he comes up with two theories, both of which I think are wrong, but are really, really clever about the nature of the strong force, what would be called weaker hypercharge</td></tr><tr><td align=left>1.0202500640886099</td><td align=left>138.0</td><td align=left>and removed with extreme prejudice. It&#39;s anti-science. So I don&#39;t know much or anything really about the inner workings of string theory, but Sabine Hossenfeld has been on the show, Brian Greene&#39;s been on the show, Sean Carroll&#39;s been on the show. Oh, let&#39;s get them, all of them.</td></tr><tr><td align=left>1.0269733768079288</td><td align=left>127.0</td><td align=left>that he thinks string theory is a dead end that doesn&#39;t describe the world? He&#39;s playing a game that I would, I would say is Logomachy, an argument over words, where he says that big S string theory is not the theory of the real world, which is the theory that was used to destroy all of its competitors and that little S string theory exists. I don&#39;t, this is basically the attempt, uh, to take a school massacre and plead to a parking ticket. And no, I think that the prosecution should decline the offer from the good Dr. Suskin and say, no, no, no, you have 40 years of the destruction of your colleagues to answer for you&#39;ve chosen to be, um, words, family, an asshole,</td></tr><tr><td align=left>1.0748039271659109</td><td align=left>141.0</td><td align=left>No, Mr. Smart, I don&#39;t believe that either. Two Cub Scouts with slingshots. So, this is a very old pattern. Yeah. Is this too far gone for string theory now? Is it the mask is beginning to slip to the point where even Ed Dutton&#39;s going to have to eat his words within the next decade?</td></tr><tr><td align=left>1.0871153658073978</td><td align=left>137.0</td><td align=left>I have my own theory and I&#39;m happy to fight with Peter, but Peter and I have been friends for all these years. Uh, I would love to have Nima Arkani Hamed and Ed Frankel and others, uh, judge this people who aren&#39;t really string theorists who appreciate the best parts of string inspired mathematics, let&#39;s say, or string inspired mechanisms in physics. There is, the equations are not without interest or merit. It&#39;s the, the sociology should be hunted</td></tr><tr><td align=left>1.0941284953115566</td><td align=left>125.0</td><td align=left>Suskin being one of the best theoretical physicists ever. No. No. Why is he somebody worth listening to then? Um, he&#39;s very, very smart and he&#39;s one of the most important string theorists ever, and he writes exceptionally clear and correct introductory books. Okay. But he is not a leading physicist.</td></tr></tbody></table>"
      ]
     },
     "execution_count": 16,
     "metadata": {},
     "output_type": "execute_result"
    }
   ],
   "source": [
    "#% html\n",
    "@dsScores ==> to-html(field-names => <distance label text>, align => 'left');"
   ]
  },
  {
   "cell_type": "markdown",
   "metadata": {},
   "source": [
    "-----\n",
    "\n",
    "## Nearest neighbors finding (low-level)"
   ]
  },
  {
   "cell_type": "markdown",
   "metadata": {},
   "source": [
    "In this section we show how to find the elements of the vector database that are _considered_ nearest neighbors to the query vector. \n",
    "We use \"low-level\" computations for didactic purposes.\n",
    "Same or similar results can be obtained by using the method `nearest` of the vector database object."
   ]
  },
  {
   "cell_type": "markdown",
   "metadata": {},
   "source": [
    "Here is its vector embedding (with the same LLM that was used to compute the vector database):"
   ]
  },
  {
   "cell_type": "code",
   "execution_count": null,
   "metadata": {},
   "outputs": [],
   "source": [
    "@query-vector"
   ]
  },
  {
   "cell_type": "code",
   "execution_count": null,
   "metadata": {},
   "outputs": [],
   "source": [
    "my @query-vector = |llm-embedding($query, llm-evaluator => $vdbObj.llm-configuration).head;\n",
    "\n",
    "@query-vector.elems"
   ]
  },
  {
   "cell_type": "markdown",
   "metadata": {},
   "source": [
    "For each vector in the database find its distance to the query vector:"
   ]
  },
  {
   "cell_type": "code",
   "execution_count": null,
   "metadata": {},
   "outputs": [],
   "source": [
    "my @dsScores =\n",
    "        $vdbObj.database.hyper(batch => ceiling($vdbObj.item-count / 4), degree => 4).map({ %(\n",
    "            label => $_.key,\n",
    "            distance => euclidean-distance($_.value, @query-vector),\n",
    "            text => $vdbObj.text-chunks{$_.key}\n",
    "        ) }).Array;\n",
    "\n",
    "@dsScores.&dimensions"
   ]
  },
  {
   "cell_type": "markdown",
   "metadata": {},
   "source": [
    "**Remark:** In the computation of the distances we use parallel processing via `hyper`. "
   ]
  },
  {
   "cell_type": "markdown",
   "metadata": {},
   "source": [
    "Sort in ascending order:"
   ]
  },
  {
   "cell_type": "code",
   "execution_count": null,
   "metadata": {},
   "outputs": [],
   "source": [
    "@dsScores .= sort({ $_<distance> });\n",
    "\n",
    "@dsScores.map(*<distance>).head(6)"
   ]
  },
  {
   "cell_type": "markdown",
   "metadata": {},
   "source": [
    "Show the text chunks closest to the query:"
   ]
  },
  {
   "cell_type": "code",
   "execution_count": null,
   "metadata": {},
   "outputs": [],
   "source": [
    "#% html\n",
    "@dsScores.head(12) ==> to-html(field-names => <distance label text>, align => 'left');"
   ]
  },
  {
   "cell_type": "markdown",
   "metadata": {},
   "source": [
    "Show the nearest neighbors scores (with the chosen distance function):"
   ]
  },
  {
   "cell_type": "code",
   "execution_count": null,
   "metadata": {},
   "outputs": [],
   "source": [
    "text-list-plot(@dsScores.map(*<distance>), width => 100, height => 16)"
   ]
  },
  {
   "cell_type": "markdown",
   "metadata": {},
   "source": [
    "From the plot we can see that there are clear outliers. Here are find outliers' positions, [AA1, AAp8]:"
   ]
  },
  {
   "cell_type": "code",
   "execution_count": null,
   "metadata": {},
   "outputs": [],
   "source": [
    "my @pos = outlier-identifier(@dsScores.map(*<distance>), identifier => (&bottom-outliers o &quartile-identifier-parameters));\n",
    "\n",
    "@pos.max"
   ]
  },
  {
   "cell_type": "markdown",
   "metadata": {},
   "source": [
    "**Remark:** We show only the max outlier position since the distances are sorted in ascending order."
   ]
  },
  {
   "cell_type": "markdown",
   "metadata": {},
   "source": [
    "**Remark:** The outlier identifiers `&hampel-identifier-parameters` and `&splus-quartile-identifier-parameters` give 84 and 22 outliers, respectively."
   ]
  },
  {
   "cell_type": "markdown",
   "metadata": {},
   "source": [
    "The text chunks correspond to the found outliers are considered most relevant to the query and can be used to form prompt LLM answers for the query."
   ]
  },
  {
   "cell_type": "markdown",
   "metadata": {},
   "source": [
    "-----\n",
    "\n",
    "## Answer based on nearest neighbors"
   ]
  },
  {
   "cell_type": "markdown",
   "metadata": {},
   "source": [
    "Generate an answer:"
   ]
  },
  {
   "cell_type": "code",
   "execution_count": null,
   "metadata": {},
   "outputs": [],
   "source": [
    "#% markdown\n",
    "my $answer = llm-synthesize([\n",
    "    'Come up with a narration answering this question:',\n",
    "    $query,\n",
    "    \"using these discussion statements:\",\n",
    "    @dsScores.head(40).map(*<text>).join(\"\\n\")\n",
    "    ],\n",
    "    e => $conf4o\n",
    ");\n",
    "\n",
    "$answer"
   ]
  },
  {
   "cell_type": "markdown",
   "metadata": {},
   "source": [
    "-------\n",
    "\n",
    "## References"
   ]
  },
  {
   "cell_type": "markdown",
   "metadata": {},
   "source": [
    "### Articles\n",
    "\n",
    "[AA1] Anton Antonov, \n",
    "[\"Outlier detection in a list of numbers\"](https://rakuforprediction.wordpress.com/2022/05/29/outlier-detection-in-a-list-of-numbers/),\n",
    "(2022),\n",
    "[RakuForPrediction at WordPress](https://rakuforprediction.wordpress.com)."
   ]
  },
  {
   "cell_type": "markdown",
   "metadata": {},
   "source": [
    "### Packages\n",
    "\n",
    "[AAp1] Anton Antonov,\n",
    "[WWW::OpenAI Raku package](https://github.com/antononcube/Raku-WWW-OpenAI),\n",
    "(2023),\n",
    "[GitHub/antononcube](https://github.com/antononcube).\n",
    "\n",
    "[AAp2] Anton Antonov,\n",
    "[WWW::PaLM Raku package](https://github.com/antononcube/Raku-WWW-PaLM),\n",
    "(2023),\n",
    "[GitHub/antononcube](https://github.com/antononcube).\n",
    "\n",
    "[AAp3] Anton Antonov,\n",
    "[LLM::Functions Raku package](https://github.com/antononcube/Raku-LLM-Functions),\n",
    "(2023-2024),\n",
    "[GitHub/antononcube](https://github.com/antononcube).\n",
    "\n",
    "[AAp4] Anton Antonov,\n",
    "[LLM::Prompts Raku package](https://github.com/antononcube/Raku-LLM-Prompts),\n",
    "(2023-2024),\n",
    "[GitHub/antononcube](https://github.com/antononcube).\n",
    "\n",
    "[AAp5] Anton Antonov,\n",
    "[ML::FindTextualAnswer Raku package](https://github.com/antononcube/Raku-ML-FindTextualAnswer),\n",
    "(2023-2024),\n",
    "[GitHub/antononcube](https://github.com/antononcube).\n",
    "\n",
    "[AAp6] Anton Antonov,\n",
    "[Math::Nearest Raku package](https://github.com/antononcube/Raku-Math-Nearest),\n",
    "(2024),\n",
    "[GitHub/antononcube](https://github.com/antononcube).\n",
    "\n",
    "[AAp7] Anton Antonov,\n",
    "[Math::DistanceFunctions Raku package](https://github.com/antononcube/Raku-Math-DistanceFunctions),\n",
    "(2024),\n",
    "[GitHub/antononcube](https://github.com/antononcube).\n",
    "\n",
    "[AAp8] Anton Antonov,\n",
    "[Statistics::OutlierIdentifiers Raku package](https://github.com/antononcube/Raku-Statistics-OutlierIdentifiers),\n",
    "(2022),\n",
    "[GitHub/antononcube](https://github.com/antononcube)."
   ]
  },
  {
   "cell_type": "markdown",
   "metadata": {},
   "source": [
    "## Videos\n",
    "\n",
    "[CWv1] Chris Williamson,\n",
    "[\"Eric Weinstein - Are We On The Brink Of A Revolution? (4K)\"](https://www.youtube.com/watch?v=PYRYXhU4kxM),\n",
    "(2024),\n",
    "[YouTube/@ChrisWillx](https://www.youtube.com/@ChrisWillx).   \n",
    "([transcript](https://podscripts.co/podcasts/modern-wisdom/833-eric-weinstein-are-we-on-the-brink-of-a-revolution).)"
   ]
  }
 ],
 "metadata": {
  "kernelspec": {
   "display_name": "RakuChatbook",
   "language": "raku",
   "name": "raku"
  },
  "language_info": {
   "file_extension": ".raku",
   "mimetype": "text/x-raku",
   "name": "raku",
   "version": "6.d"
  }
 },
 "nbformat": 4,
 "nbformat_minor": 2
}
