{
 "cells": [
  {
   "cell_type": "markdown",
   "metadata": {},
   "source": [
    "# Question Answering System by Retrieval Augmented Generation\n",
    "\n",
    "### *Guide*\n",
    "\n",
    "Anton Antonov    \n",
    "September 2024  "
   ]
  },
  {
   "cell_type": "markdown",
   "metadata": {},
   "source": [
    "-----\n",
    "\n",
    "## Introduction"
   ]
  },
  {
   "cell_type": "markdown",
   "metadata": {},
   "source": [
    "This notebook shows how to import an LLM-computed vector database and then LLM-generate from it responses to certain queries."
   ]
  },
  {
   "cell_type": "markdown",
   "metadata": {},
   "source": [
    "-------\n",
    "\n",
    "## Setup"
   ]
  },
  {
   "cell_type": "markdown",
   "metadata": {},
   "source": [
    "Packages used below:"
   ]
  },
  {
   "cell_type": "code",
   "execution_count": 26,
   "metadata": {},
   "outputs": [],
   "source": [
    "use Data::Importers;\n",
    "use LLM::Functions;\n",
    "use XDG::BaseDirectory :terms;\n",
    "\n",
    "use LLM::RetrievalAugmentedGeneration;\n",
    "use LLM::RetrievalAugmentedGeneration::VectorDatabase;\n",
    "\n",
    "use Data::Reshapers;\n",
    "use Data::Summarizers;\n",
    "use Math::Nearest;\n",
    "use Math::DistanceFunctions;\n",
    "use Statistics::OutlierIdentifiers;"
   ]
  },
  {
   "cell_type": "markdown",
   "metadata": {},
   "source": [
    "A special LLM configuration:"
   ]
  },
  {
   "cell_type": "code",
   "execution_count": 33,
   "metadata": {},
   "outputs": [
    {
     "data": {
      "text/plain": [
       "24"
      ]
     },
     "execution_count": 33,
     "metadata": {},
     "output_type": "execute_result"
    }
   ],
   "source": [
    "my $conf4o = llm-configuration('ChatGPT', model => 'gpt-4o', max-tokens => 4096, temperature => 0.4);\n",
    "$conf4o.Hash.elems"
   ]
  },
  {
   "cell_type": "markdown",
   "metadata": {},
   "source": [
    "-----\n",
    "\n",
    "## Import Vector Database"
   ]
  },
  {
   "cell_type": "markdown",
   "metadata": {},
   "source": [
    "In this section we import the vector database and do certain basic statistics over it."
   ]
  },
  {
   "cell_type": "markdown",
   "metadata": {},
   "source": [
    "Here we make and empty vector database object:"
   ]
  },
  {
   "cell_type": "code",
   "execution_count": 2,
   "metadata": {},
   "outputs": [
    {
     "data": {
      "text/plain": [
       "VectorDatabase(:id(\"8de131f4-c0e5-4cc5-be44-dcdd1d3d8344\"), :name(\"\"), :elements(0), :sources(0))"
      ]
     },
     "execution_count": 2,
     "metadata": {},
     "output_type": "execute_result"
    }
   ],
   "source": [
    "my $vdbObj = LLM::RetrievalAugmentedGeneration::VectorDatabase.new();"
   ]
  },
  {
   "cell_type": "markdown",
   "metadata": {},
   "source": [
    "We can see the available _pre-computed_ vector databases with `vector-database-objects`:"
   ]
  },
  {
   "cell_type": "code",
   "execution_count": 3,
   "metadata": {},
   "outputs": [
    {
     "data": {
      "text/plain": [
       "[SemSe-266b20ca-d917-4ac0-9b0a-7c420625666c.json]"
      ]
     },
     "execution_count": 3,
     "metadata": {},
     "output_type": "execute_result"
    }
   ],
   "source": [
    "vector-database-objects».basename"
   ]
  },
  {
   "cell_type": "markdown",
   "metadata": {},
   "source": [
    "Here using we form a file path for a previously computed (and exported) vector database using [`$XDG_DATA_HOME`](https://specifications.freedesktop.org/basedir-spec/latest/index.html):"
   ]
  },
  {
   "cell_type": "code",
   "execution_count": 4,
   "metadata": {},
   "outputs": [
    {
     "data": {
      "text/plain": [
       "True"
      ]
     },
     "execution_count": 4,
     "metadata": {},
     "output_type": "execute_result"
    }
   ],
   "source": [
    "# The sub-directory\n",
    "my $dirname = data-home.Str ~ '/raku/LLM/SemanticSearchIndex';\n",
    "\n",
    "# The exported vector database base file name\n",
    "my $basename = 'SemSe-266b20ca-d917-4ac0-9b0a-7c420625666c.json';\n",
    "\n",
    "# Corresponding IO:Path object\n",
    "my $file = IO::Path.new(:$dirname, :$basename);\n",
    "\n",
    "# Check for existence\n",
    "$file.f"
   ]
  },
  {
   "cell_type": "markdown",
   "metadata": {},
   "source": [
    "Import the vector database:"
   ]
  },
  {
   "cell_type": "code",
   "execution_count": 6,
   "metadata": {},
   "outputs": [
    {
     "name": "stdout",
     "output_type": "stream",
     "text": [
      "Import time 4.168099464 seconds.\n"
     ]
    }
   ],
   "source": [
    "my $tstart = now;\n",
    "\n",
    "$vdbObj.import($file);\n",
    "\n",
    "my $tend = now;\n",
    "\n",
    "say \"Import time { $tend - $tstart } seconds.\";"
   ]
  },
  {
   "cell_type": "markdown",
   "metadata": {},
   "source": [
    "Here is the vector database object's _gist_:"
   ]
  },
  {
   "cell_type": "code",
   "execution_count": 7,
   "metadata": {},
   "outputs": [
    {
     "name": "stdout",
     "output_type": "stream",
     "text": [
      "VectorDatabase(:id(\"266b20ca-d917-4ac0-9b0a-7c420625666c\"), :name(\"No833\"), :elements(441), :sources(442))\n"
     ]
    }
   ],
   "source": [
    "say $vdbObj;"
   ]
  },
  {
   "cell_type": "markdown",
   "metadata": {},
   "source": [
    "Show text chunks sample:"
   ]
  },
  {
   "cell_type": "code",
   "execution_count": 8,
   "metadata": {},
   "outputs": [
    {
     "data": {
      "text/html": [
       "<ul><li><table border=\"1\"><tr><th>428.0</th><td>We recognize the culture, the endowment, the contribution to American society. And I wish the democratic party were doing this. They&#39;re right there. Go speak to them, stop spinning on them and shitting on them and pissing on them. But somehow we&#39;ve got this sort of NAFTA coked up on you. You&#39;re not going to be able to do that. You&#39;re not going to Go speak to them. Stop spinning on them and shitting on them and pissing on them. But somehow we&#39;ve got this sort of NAFTA, coked up on NAFTA intellectual elite that says, Hey, we helped people in Mexico.</td></tr></table></li><li><table border=\"1\"><tr><th>264.0</th><td>that you ask a difficult question as opposed to there is this compulsion inside of me, I&#39;m dragged forward to go, well, what I mean, and, and throw this sort of lifebuoy to them, uh, because sitting with that discomfort. So that is by far, I think the most valid criticism. Now, one of the things that nobody gets to see is how hard it is for people to achieve the things that they achieve. So apart from in sports,</td></tr></table></li><li><table border=\"1\"><tr><th>171.0</th><td>it&#39;s, it&#39;s an absolutely diabolical situation. So the point that I find interesting is not, although it is, what is the motivation of the criticizer is interesting to me, but what is the response of the criticized is much more interesting to me. What are the options? I&#39;m actually just interested. What do you see as the options that are possible? Because I can&#39;t, this is a problem that I can&#39;t solve.</td></tr></table></li></ul>"
      ]
     },
     "execution_count": 8,
     "metadata": {},
     "output_type": "execute_result"
    }
   ],
   "source": [
    "#% html\n",
    "$vdbObj.text-chunks.pick(3) ==> to-html()"
   ]
  },
  {
   "cell_type": "markdown",
   "metadata": {},
   "source": [
    "Show vector database dimensions:"
   ]
  },
  {
   "cell_type": "code",
   "execution_count": 9,
   "metadata": {},
   "outputs": [
    {
     "data": {
      "text/plain": [
       "(441 1536)"
      ]
     },
     "execution_count": 9,
     "metadata": {},
     "output_type": "execute_result"
    }
   ],
   "source": [
    "$vdbObj.database.&dimensions"
   ]
  },
  {
   "cell_type": "markdown",
   "metadata": {},
   "source": [
    "Show vectors' norms:"
   ]
  },
  {
   "cell_type": "code",
   "execution_count": 10,
   "metadata": {},
   "outputs": [
    {
     "data": {
      "text/plain": [
       "(1.0000000265764895 0.9999999336431316 0.9999999738155717)"
      ]
     },
     "execution_count": 10,
     "metadata": {},
     "output_type": "execute_result"
    }
   ],
   "source": [
    "$vdbObj.database.pick(3).deepmap({ norm($_.value) })"
   ]
  },
  {
   "cell_type": "markdown",
   "metadata": {},
   "source": [
    "Here is a summary over all vectors:"
   ]
  },
  {
   "cell_type": "code",
   "execution_count": 12,
   "metadata": {},
   "outputs": [
    {
     "name": "stdout",
     "output_type": "stream",
     "text": [
      "+------------------------------+\n",
      "| numerical                    |\n",
      "+------------------------------+\n",
      "| Max    => 1.0000001001691734 |\n",
      "| Median => 1.000000012338632  |\n",
      "| Min    => 0.9999999127751137 |\n",
      "| 3rd-Qu => 1.0000000370665867 |\n",
      "| 1st-Qu => 0.9999999894227217 |\n",
      "| Mean   => 1.0000000117763133 |\n",
      "+------------------------------+\n"
     ]
    }
   ],
   "source": [
    "sink records-summary($vdbObj.database.values.map({ norm($_) }))"
   ]
  },
  {
   "cell_type": "markdown",
   "metadata": {},
   "source": [
    "------\n",
    "\n",
    "## Themes found in the text chunks"
   ]
  },
  {
   "cell_type": "markdown",
   "metadata": {},
   "source": [
    "The vector database object has the attributes:\n",
    "- `database` which is a `Map` of labels (identifiers) to LLM embedding vectors\n",
    "- `text-chunks` which is a `Map` of labels to text chunks that correspond to the embedding vectors\n",
    "\n",
    "(The keys of `database` and `text-chunks` are the same.)"
   ]
  },
  {
   "cell_type": "markdown",
   "metadata": {},
   "source": [
    "\n",
    "By examining the LLM-extracted themes from text chunks of the imported vector database, \n",
    "we see that the discussion they came from is [fairy eclectic](https://www.youtube.com/watch?v=PYRYXhU4kxM), [CWv1]:"
   ]
  },
  {
   "cell_type": "code",
   "execution_count": 13,
   "metadata": {},
   "outputs": [
    {
     "data": {
      "text/html": [
       "<table border=\"1\"><thead><tr><th>theme</th><th>content</th></tr></thead><tbody><tr><td align=left>Introduction</td><td align=left>Introduction of the guest and overview of topics to be discussed.</td></tr><tr><td align=left>Eric&#39;s Predictions</td><td align=left>Discussion about the 2024 presidential election and potential outcomes.</td></tr><tr><td align=left>Media and Gaslighting</td><td align=left>Analysis of media behavior and global gaslighting.</td></tr><tr><td align=left>International Order</td><td align=left>Discussion on international agreements and political structures.</td></tr><tr><td align=left>Trump&#39;s Presidency</td><td align=left>Impact and implications of Donald Trump&#39;s presidency.</td></tr><tr><td align=left>Election Dynamics</td><td align=left>How democracy and elections are influenced by international order.</td></tr><tr><td align=left>Censorship and Control</td><td align=left>Role of censorship and media in shaping public opinion.</td></tr><tr><td align=left>AI and Technology</td><td align=left>Discussion on AI, technology, and their societal impact.</td></tr><tr><td align=left>String Theory</td><td align=left>Critique of string theory and its dominance in physics.</td></tr><tr><td align=left>Criticism and Public Perception</td><td align=left>Handling criticism and its impact on public figures.</td></tr><tr><td align=left>Science and Funding</td><td align=left>Issues in scientific research and funding mechanisms.</td></tr><tr><td align=left>Personal Challenges</td><td align=left>Eric&#39;s personal experiences and challenges in his career.</td></tr><tr><td align=left>High Agency</td><td align=left>Concept of high agency and overcoming personal obstacles.</td></tr><tr><td align=left>Cultural Reflections</td><td align=left>Discussion on cultural changes and societal values.</td></tr><tr><td align=left>Future of Politics</td><td align=left>Speculations on future political developments and their implications.</td></tr><tr><td align=left>Conclusion</td><td align=left>Closing remarks and reflections on the conversation.</td></tr></tbody></table>"
      ]
     },
     "execution_count": 13,
     "metadata": {},
     "output_type": "execute_result"
    }
   ],
   "source": [
    "#% html\n",
    "my $res = llm-synthesize([\n",
    "    llm-prompt(\"ThemeTableJSON\")(\n",
    "        $vdbObj.text-chunks.sort(*.key)».value.join(\"\\n\"), 'text', 15, \n",
    "    )\n",
    "    ],\n",
    "    e => $conf4o,\n",
    "    form => sub-parser('JSON'):drop\n",
    ");\n",
    "\n",
    "$res ==> to-html(field-names => <theme content>, align => 'left')"
   ]
  },
  {
   "cell_type": "markdown",
   "metadata": {},
   "source": [
    "**Remark:** It is instructive to compare the extracted themes with the list video segments given in [CWv1]. "
   ]
  },
  {
   "cell_type": "markdown",
   "metadata": {},
   "source": [
    "-----\n",
    "\n",
    "## Nearest neighbors finding"
   ]
  },
  {
   "cell_type": "markdown",
   "metadata": {},
   "source": [
    "Here is a query:"
   ]
  },
  {
   "cell_type": "code",
   "execution_count": 15,
   "metadata": {},
   "outputs": [
    {
     "data": {
      "text/plain": [
       "What is the state of string theory?"
      ]
     },
     "execution_count": 15,
     "metadata": {},
     "output_type": "execute_result"
    }
   ],
   "source": [
    "my $query = 'What is the state of string theory?';"
   ]
  },
  {
   "cell_type": "markdown",
   "metadata": {},
   "source": [
    "Here we find the labels of the vectors (and text chunks) that _considered_ nearest neighbors of certain query:"
   ]
  },
  {
   "cell_type": "code",
   "execution_count": 16,
   "metadata": {},
   "outputs": [
    {
     "data": {
      "text/plain": [
       "[(126.0 0.9066815079532051) (139.0 0.9301226226546818) (121.0 0.9664632700051056) (112.0 0.9696340383729329) (162.0 1.008971602214595) (138.0 1.020272389983001) (127.0 1.0270789467175634) (141.0 1.074852800470846) (137.0 1.08715933633032) (125.0 1.0941371063568315)]"
      ]
     },
     "execution_count": 16,
     "metadata": {},
     "output_type": "execute_result"
    }
   ],
   "source": [
    "my @nnLabels = $vdbObj.nearest($query, 10, prop => <label distance>, distance-function => &euclidean-distance)"
   ]
  },
  {
   "cell_type": "markdown",
   "metadata": {},
   "source": [
    "Here we make the corresponding dataset that included the text chunks from the vector database:"
   ]
  },
  {
   "cell_type": "code",
   "execution_count": 17,
   "metadata": {},
   "outputs": [
    {
     "data": {
      "text/plain": [
       "(10 3)"
      ]
     },
     "execution_count": 17,
     "metadata": {},
     "output_type": "execute_result"
    }
   ],
   "source": [
    "my @dsScores = @nnLabels.map({\n",
    "    %( label => $_[0], distance => $_[1], text => $vdbObj.text-chunks{$_[0]} )\n",
    "});\n",
    "\n",
    "@dsScores.&dimensions"
   ]
  },
  {
   "cell_type": "markdown",
   "metadata": {},
   "source": [
    "Here we show the dataset:"
   ]
  },
  {
   "cell_type": "code",
   "execution_count": 18,
   "metadata": {},
   "outputs": [
    {
     "data": {
      "text/html": [
       "<table border=\"1\"><thead><tr><th>distance</th><th>label</th><th>text</th></tr></thead><tbody><tr><td align=left>0.9066815079532051</td><td align=left>126.0</td><td align=left>But is somebody at the forefront of string theory? Absolutely. And he said, quote, I can tell you with absolute certainty, string theory is not the theory of the real world. I can tell you that 100%. My strong feelings are exactly that string theory is definitely not the theory of the real world. I can tell you that 100%. My strong feelings are exactly that string theory is definitely not the theory of the real world. Is that taking it out of context? Is that him framing it somewhere else? Or does that encapsulate the fact</td></tr><tr><td align=left>0.9301226226546818</td><td align=left>139.0</td><td align=left>And I saw a tweet saying that somebody had been to a string theory convention and had asked the question, what is string theory? And the best string theorists on the planet came up with the answer, we kind of don&#39;t know what string theory is. And the other answer is whatever it is that we&#39;re doing. Whatever it is that the string theory community is doing. Even if they did something that had nothing to do with string theory,</td></tr><tr><td align=left>0.9664632700051056</td><td align=left>121.0</td><td align=left>That is not shiny. That is saying everything else is crap and dangerous. In other words, it&#39;s string theory can&#39;t sell itself as physics. By any telling of the story, string theory is the most failed theory in the history of physics. If you look at the number of papers, the amount of money, the number of people, the number of PhDs, number of conferences, achievements in physics proper per investment or size of effort. It is the most failed theory in the history of physics and the way in which it survives is by hunting and destroying its enemies and making its</td></tr><tr><td align=left>0.9696340383729329</td><td align=left>112.0</td><td align=left>We don&#39;t know whether that we&#39;re talking about the stagnation of theoretical physics or just nuclear physics. You&#39;re okay with speculating. Let&#39;s speculate. I&#39;ll do the decision tree. One possibility is that they&#39;re simply saying that they made nuclear physics very, very difficult to do. And that has to do with not very sexy physics, the physics of protons and neutrons in nuclear. So that branch exists. The other branch says, um, we used string theory to cock block actual progress in theoretical physics and derailed an entire field, at least</td></tr><tr><td align=left>1.008971602214595</td><td align=left>162.0</td><td align=left>Everybody in the community reads it and many people pretend that they don&#39;t because it&#39;s very critical of string theory, but he&#39;s very, very good. Then he writes a book like this. Nobody saw it coming. Then he comes up with two theories, both of which I of string theory, but he&#39;s very, very good. Then he writes a book like this, nobody saw it coming. Then he comes up with two theories, both of which I think are wrong, but are really, really clever about the nature of the strong force, what would be called weaker hypercharge</td></tr><tr><td align=left>1.020272389983001</td><td align=left>138.0</td><td align=left>and removed with extreme prejudice. It&#39;s anti-science. So I don&#39;t know much or anything really about the inner workings of string theory, but Sabine Hossenfeld has been on the show, Brian Greene&#39;s been on the show, Sean Carroll&#39;s been on the show. Oh, let&#39;s get them, all of them.</td></tr><tr><td align=left>1.0270789467175634</td><td align=left>127.0</td><td align=left>that he thinks string theory is a dead end that doesn&#39;t describe the world? He&#39;s playing a game that I would, I would say is Logomachy, an argument over words, where he says that big S string theory is not the theory of the real world, which is the theory that was used to destroy all of its competitors and that little S string theory exists. I don&#39;t, this is basically the attempt, uh, to take a school massacre and plead to a parking ticket. And no, I think that the prosecution should decline the offer from the good Dr. Suskin and say, no, no, no, you have 40 years of the destruction of your colleagues to answer for you&#39;ve chosen to be, um, words, family, an asshole,</td></tr><tr><td align=left>1.074852800470846</td><td align=left>141.0</td><td align=left>No, Mr. Smart, I don&#39;t believe that either. Two Cub Scouts with slingshots. So, this is a very old pattern. Yeah. Is this too far gone for string theory now? Is it the mask is beginning to slip to the point where even Ed Dutton&#39;s going to have to eat his words within the next decade?</td></tr><tr><td align=left>1.08715933633032</td><td align=left>137.0</td><td align=left>I have my own theory and I&#39;m happy to fight with Peter, but Peter and I have been friends for all these years. Uh, I would love to have Nima Arkani Hamed and Ed Frankel and others, uh, judge this people who aren&#39;t really string theorists who appreciate the best parts of string inspired mathematics, let&#39;s say, or string inspired mechanisms in physics. There is, the equations are not without interest or merit. It&#39;s the, the sociology should be hunted</td></tr><tr><td align=left>1.0941371063568315</td><td align=left>125.0</td><td align=left>Suskin being one of the best theoretical physicists ever. No. No. Why is he somebody worth listening to then? Um, he&#39;s very, very smart and he&#39;s one of the most important string theorists ever, and he writes exceptionally clear and correct introductory books. Okay. But he is not a leading physicist.</td></tr></tbody></table>"
      ]
     },
     "execution_count": 18,
     "metadata": {},
     "output_type": "execute_result"
    }
   ],
   "source": [
    "#% html\n",
    "@dsScores ==> to-html(field-names => <distance label text>, align => 'left');"
   ]
  },
  {
   "cell_type": "markdown",
   "metadata": {},
   "source": [
    "-----\n",
    "\n",
    "## Nearest neighbors finding (low-level)"
   ]
  },
  {
   "cell_type": "markdown",
   "metadata": {},
   "source": [
    "In this section we show how to find the elements of the vector database that are _considered_ nearest neighbors to the query vector. \n",
    "We use \"low-level\" computations for didactic purposes.\n",
    "Same or similar results can be obtained by using the method `nearest` of the vector database object."
   ]
  },
  {
   "cell_type": "markdown",
   "metadata": {},
   "source": [
    "Here is its vector embedding (with the same LLM that was used to compute the vector database):"
   ]
  },
  {
   "cell_type": "code",
   "execution_count": 19,
   "metadata": {},
   "outputs": [
    {
     "data": {
      "text/plain": [
       "1536"
      ]
     },
     "execution_count": 19,
     "metadata": {},
     "output_type": "execute_result"
    }
   ],
   "source": [
    "my @query-vector = |llm-embedding($query, llm-evaluator => $vdbObj.llm-configuration).head;\n",
    "\n",
    "@query-vector.elems"
   ]
  },
  {
   "cell_type": "markdown",
   "metadata": {},
   "source": [
    "For each vector in the database find its distance to the query vector:"
   ]
  },
  {
   "cell_type": "code",
   "execution_count": 20,
   "metadata": {},
   "outputs": [
    {
     "data": {
      "text/plain": [
       "(441 3)"
      ]
     },
     "execution_count": 20,
     "metadata": {},
     "output_type": "execute_result"
    }
   ],
   "source": [
    "my @dsScores =\n",
    "        $vdbObj.database.map({ %(\n",
    "            label => $_.key,\n",
    "            distance => euclidean-distance($_.value, @query-vector),\n",
    "            text => $vdbObj.text-chunks{$_.key}\n",
    "        ) }).Array;\n",
    "\n",
    "@dsScores.&dimensions"
   ]
  },
  {
   "cell_type": "markdown",
   "metadata": {},
   "source": [
    "Sort in ascending order:"
   ]
  },
  {
   "cell_type": "code",
   "execution_count": 21,
   "metadata": {},
   "outputs": [
    {
     "data": {
      "text/plain": [
       "(0.9066815079532051 0.9301226226546818 0.9664632700051056 0.9696340383729329 1.008971602214595 1.020272389983001)"
      ]
     },
     "execution_count": 21,
     "metadata": {},
     "output_type": "execute_result"
    }
   ],
   "source": [
    "@dsScores .= sort({ $_<distance> });\n",
    "\n",
    "@dsScores.map(*<distance>).head(6)"
   ]
  },
  {
   "cell_type": "markdown",
   "metadata": {},
   "source": [
    "Show the text chunks closest to the query:"
   ]
  },
  {
   "cell_type": "code",
   "execution_count": 22,
   "metadata": {},
   "outputs": [
    {
     "data": {
      "text/html": [
       "<table border=\"1\"><thead><tr><th>distance</th><th>label</th><th>text</th></tr></thead><tbody><tr><td align=left>0.9066815079532051</td><td align=left>126.0</td><td align=left>But is somebody at the forefront of string theory? Absolutely. And he said, quote, I can tell you with absolute certainty, string theory is not the theory of the real world. I can tell you that 100%. My strong feelings are exactly that string theory is definitely not the theory of the real world. I can tell you that 100%. My strong feelings are exactly that string theory is definitely not the theory of the real world. Is that taking it out of context? Is that him framing it somewhere else? Or does that encapsulate the fact</td></tr><tr><td align=left>0.9301226226546818</td><td align=left>139.0</td><td align=left>And I saw a tweet saying that somebody had been to a string theory convention and had asked the question, what is string theory? And the best string theorists on the planet came up with the answer, we kind of don&#39;t know what string theory is. And the other answer is whatever it is that we&#39;re doing. Whatever it is that the string theory community is doing. Even if they did something that had nothing to do with string theory,</td></tr><tr><td align=left>0.9664632700051056</td><td align=left>121.0</td><td align=left>That is not shiny. That is saying everything else is crap and dangerous. In other words, it&#39;s string theory can&#39;t sell itself as physics. By any telling of the story, string theory is the most failed theory in the history of physics. If you look at the number of papers, the amount of money, the number of people, the number of PhDs, number of conferences, achievements in physics proper per investment or size of effort. It is the most failed theory in the history of physics and the way in which it survives is by hunting and destroying its enemies and making its</td></tr><tr><td align=left>0.9696340383729329</td><td align=left>112.0</td><td align=left>We don&#39;t know whether that we&#39;re talking about the stagnation of theoretical physics or just nuclear physics. You&#39;re okay with speculating. Let&#39;s speculate. I&#39;ll do the decision tree. One possibility is that they&#39;re simply saying that they made nuclear physics very, very difficult to do. And that has to do with not very sexy physics, the physics of protons and neutrons in nuclear. So that branch exists. The other branch says, um, we used string theory to cock block actual progress in theoretical physics and derailed an entire field, at least</td></tr><tr><td align=left>1.008971602214595</td><td align=left>162.0</td><td align=left>Everybody in the community reads it and many people pretend that they don&#39;t because it&#39;s very critical of string theory, but he&#39;s very, very good. Then he writes a book like this. Nobody saw it coming. Then he comes up with two theories, both of which I of string theory, but he&#39;s very, very good. Then he writes a book like this, nobody saw it coming. Then he comes up with two theories, both of which I think are wrong, but are really, really clever about the nature of the strong force, what would be called weaker hypercharge</td></tr><tr><td align=left>1.020272389983001</td><td align=left>138.0</td><td align=left>and removed with extreme prejudice. It&#39;s anti-science. So I don&#39;t know much or anything really about the inner workings of string theory, but Sabine Hossenfeld has been on the show, Brian Greene&#39;s been on the show, Sean Carroll&#39;s been on the show. Oh, let&#39;s get them, all of them.</td></tr><tr><td align=left>1.0270789467175634</td><td align=left>127.0</td><td align=left>that he thinks string theory is a dead end that doesn&#39;t describe the world? He&#39;s playing a game that I would, I would say is Logomachy, an argument over words, where he says that big S string theory is not the theory of the real world, which is the theory that was used to destroy all of its competitors and that little S string theory exists. I don&#39;t, this is basically the attempt, uh, to take a school massacre and plead to a parking ticket. And no, I think that the prosecution should decline the offer from the good Dr. Suskin and say, no, no, no, you have 40 years of the destruction of your colleagues to answer for you&#39;ve chosen to be, um, words, family, an asshole,</td></tr><tr><td align=left>1.074852800470846</td><td align=left>141.0</td><td align=left>No, Mr. Smart, I don&#39;t believe that either. Two Cub Scouts with slingshots. So, this is a very old pattern. Yeah. Is this too far gone for string theory now? Is it the mask is beginning to slip to the point where even Ed Dutton&#39;s going to have to eat his words within the next decade?</td></tr><tr><td align=left>1.08715933633032</td><td align=left>137.0</td><td align=left>I have my own theory and I&#39;m happy to fight with Peter, but Peter and I have been friends for all these years. Uh, I would love to have Nima Arkani Hamed and Ed Frankel and others, uh, judge this people who aren&#39;t really string theorists who appreciate the best parts of string inspired mathematics, let&#39;s say, or string inspired mechanisms in physics. There is, the equations are not without interest or merit. It&#39;s the, the sociology should be hunted</td></tr><tr><td align=left>1.0941371063568315</td><td align=left>125.0</td><td align=left>Suskin being one of the best theoretical physicists ever. No. No. Why is he somebody worth listening to then? Um, he&#39;s very, very smart and he&#39;s one of the most important string theorists ever, and he writes exceptionally clear and correct introductory books. Okay. But he is not a leading physicist.</td></tr><tr><td align=left>1.1112151317599104</td><td align=left>158.0</td><td align=left>I&#39;m telling you right now, I believe I can explain where the particle spectrum comes from. I can explain the origin of this is my claim. The 16 particles that make up the first generation of matter, not coming from particle theory, but coming from general relativity. The most natural thing in the world is to say, that&#39;s a really bold claim. There&#39;s no known explanation for the particle spectrum in terms of general relativity. What is that guy talking about? Let&#39;s get him in here.</td></tr><tr><td align=left>1.1194134552329351</td><td align=left>122.0</td><td align=left>enemies dependent on them. We all have a circuit in our brain that we&#39;re going to run to the string theorists to talk about the problem with string theory because of peer review. It&#39;s like, when I wanna report the police department for being corrupt, well, you should go to the police with that.</td></tr></tbody></table>"
      ]
     },
     "execution_count": 22,
     "metadata": {},
     "output_type": "execute_result"
    }
   ],
   "source": [
    "#% html\n",
    "@dsScores.head(12) ==> to-html(field-names => <distance label text>, align => 'left');\n"
   ]
  },
  {
   "cell_type": "markdown",
   "metadata": {},
   "source": [
    "Show the nearest neighbors scores (with the chosen distance function):"
   ]
  },
  {
   "cell_type": "code",
   "execution_count": 23,
   "metadata": {},
   "outputs": [
    {
     "data": {
      "text/plain": [
       "+----+-------------------+-------------------+-------------------+-------------------+-------------+      \n",
       "|                                                                                                  |      \n",
       "+                                                                                         ****     +  1.40\n",
       "|                                                              ****************************        |      \n",
       "|                             **********************************                                   |      \n",
       "+                  ************                                                                    +  1.30\n",
       "|            *******                                                                               |      \n",
       "+         ****                                                                                     +  1.20\n",
       "|       ***                                                                                        |      \n",
       "+      **                                                                                          +  1.10\n",
       "|      *                                                                                           |      \n",
       "+     **                                                                                           +  1.00\n",
       "|     *                                                                                            |      \n",
       "|    **                                                                                            |      \n",
       "+                                                                                                  +  0.90\n",
       "+----+-------------------+-------------------+-------------------+-------------------+-------------+      \n",
       "     0.00                100.00              200.00              300.00              400.00               "
      ]
     },
     "execution_count": 23,
     "metadata": {},
     "output_type": "execute_result"
    }
   ],
   "source": [
    "text-list-plot(@dsScores.map(*<distance>), width => 100, height => 16)"
   ]
  },
  {
   "cell_type": "markdown",
   "metadata": {},
   "source": [
    "From the plot we can see that there are clear outliers. Here are find outliers' positions, [AA1, AAp8]:"
   ]
  },
  {
   "cell_type": "code",
   "execution_count": 24,
   "metadata": {},
   "outputs": [
    {
     "data": {
      "text/plain": [
       "74"
      ]
     },
     "execution_count": 24,
     "metadata": {},
     "output_type": "execute_result"
    }
   ],
   "source": [
    "my @pos = outlier-identifier(@dsScores.map(*<distance>), identifier => (&bottom-outliers o &quartile-identifier-parameters));\n",
    "\n",
    "@pos.max"
   ]
  },
  {
   "cell_type": "markdown",
   "metadata": {},
   "source": [
    "**Remark:** We show only the max outlier position since the distances are sorted in ascending order."
   ]
  },
  {
   "cell_type": "markdown",
   "metadata": {},
   "source": [
    "**Remark:** The outlier identifiers `&hampel-identifier-parameters` and `&splus-quartile-identifier-parameters` give 84 and 22 outliers, respectively."
   ]
  },
  {
   "cell_type": "markdown",
   "metadata": {},
   "source": [
    "The text chunks correspond to the found outliers are considered most relevant to the query and can be used to form prompt LLM answers for the query."
   ]
  },
  {
   "cell_type": "markdown",
   "metadata": {},
   "source": [
    "-----\n",
    "\n",
    "## Answer based on nearest neighbors"
   ]
  },
  {
   "cell_type": "markdown",
   "metadata": {},
   "source": [
    "Generate an answer:"
   ]
  },
  {
   "cell_type": "code",
   "execution_count": 34,
   "metadata": {},
   "outputs": [
    {
     "data": {
      "text/markdown": [
       "The state of string theory is a complex and contentious topic within the scientific community. While it once held the promise of being the ultimate theory of everything, unifying all fundamental forces of nature, its current status is far from settled. \n",
       "\n",
       "On one hand, there are prominent figures in the field who have unequivocally stated that string theory is not the theory of the real world. As one leading theorist put it, \"I can tell you with absolute certainty, string theory is not the theory of the real world. I can tell you that 100%.\" This strong sentiment reflects a growing disillusionment among some physicists who have invested decades into the theory, only to find it lacking in empirical validation.\n",
       "\n",
       "Moreover, the internal discourse within the string theory community reveals a sense of uncertainty and introspection. A tweet from a recent string theory convention highlighted that even the best minds in the field struggle to define what string theory actually is. The prevailing sentiment was that string theory could be described as \"whatever it is that we're doing,\" even if that includes activities tangentially related to the original aims of the theory.\n",
       "\n",
       "Critics argue that string theory has become the most failed theory in the history of physics, considering the vast resources—papers, money, PhDs, and conferences—dedicated to it without yielding significant achievements in physics proper. Some go as far as to claim that string theory has stifled progress in theoretical physics, diverting attention and resources away from potentially more fruitful avenues of research.\n",
       "\n",
       "The sociology of the string theory community has also come under scrutiny. Accusations of it being an insular and self-preserving group, hostile to alternative theories, are not uncommon. This has led to a polarized environment where critics and proponents rarely share the same stage, reminiscent of a divide between professional wrestling and mixed martial arts—one being a spectacle, the other a genuine sport.\n",
       "\n",
       "Despite these criticisms, there are still those who find value in the mathematical structures and mechanisms inspired by string theory. Some physicists appreciate the elegance and potential insights that string theory offers, even if it falls short of being the ultimate theory of everything.\n",
       "\n",
       "In summary, the state of string theory is one of profound debate and reflection. While it has not delivered on its initial promises and faces significant criticism, it continues to inspire and challenge the boundaries of theoretical physics. The future of string theory remains uncertain, with its ultimate fate likely to be determined by whether it can evolve and adapt to address its current shortcomings."
      ]
     },
     "execution_count": 34,
     "metadata": {},
     "output_type": "execute_result"
    }
   ],
   "source": [
    "#% markdown\n",
    "my $answer = llm-synthesize([\n",
    "    'Come up with a narration answering this question:',\n",
    "    $query,\n",
    "    \"using these discussion statements:\",\n",
    "    @dsScores.head(40).map(*<text>).join(\"\\n\")\n",
    "    ],\n",
    "    e => $conf4o\n",
    ");\n",
    "\n",
    "$answer"
   ]
  },
  {
   "cell_type": "markdown",
   "metadata": {},
   "source": [
    "-------\n",
    "\n",
    "## References"
   ]
  },
  {
   "cell_type": "markdown",
   "metadata": {},
   "source": [
    "### Articles\n",
    "\n",
    "[AA1] Anton Antonov, \n",
    "[\"Outlier detection in a list of numbers\"](https://rakuforprediction.wordpress.com/2022/05/29/outlier-detection-in-a-list-of-numbers/),\n",
    "(2022),\n",
    "[RakuForPrediction at WordPress](https://rakuforprediction.wordpress.com)."
   ]
  },
  {
   "cell_type": "markdown",
   "metadata": {},
   "source": [
    "### Packages\n",
    "\n",
    "[AAp1] Anton Antonov,\n",
    "[WWW::OpenAI Raku package](https://github.com/antononcube/Raku-WWW-OpenAI),\n",
    "(2023),\n",
    "[GitHub/antononcube](https://github.com/antononcube).\n",
    "\n",
    "[AAp2] Anton Antonov,\n",
    "[WWW::PaLM Raku package](https://github.com/antononcube/Raku-WWW-PaLM),\n",
    "(2023),\n",
    "[GitHub/antononcube](https://github.com/antononcube).\n",
    "\n",
    "[AAp3] Anton Antonov,\n",
    "[LLM::Functions Raku package](https://github.com/antononcube/Raku-LLM-Functions),\n",
    "(2023-2024),\n",
    "[GitHub/antononcube](https://github.com/antononcube).\n",
    "\n",
    "[AAp4] Anton Antonov,\n",
    "[LLM::Prompts Raku package](https://github.com/antononcube/Raku-LLM-Prompts),\n",
    "(2023-2024),\n",
    "[GitHub/antononcube](https://github.com/antononcube).\n",
    "\n",
    "[AAp5] Anton Antonov,\n",
    "[ML::FindTextualAnswer Raku package](https://github.com/antononcube/Raku-ML-FindTextualAnswer),\n",
    "(2023-2024),\n",
    "[GitHub/antononcube](https://github.com/antononcube).\n",
    "\n",
    "[AAp6] Anton Antonov,\n",
    "[Math::Nearest Raku package](https://github.com/antononcube/Raku-Math-Nearest),\n",
    "(2024),\n",
    "[GitHub/antononcube](https://github.com/antononcube).\n",
    "\n",
    "[AAp7] Anton Antonov,\n",
    "[Math::DistanceFunctions Raku package](https://github.com/antononcube/Raku-Math-DistanceFunctions),\n",
    "(2024),\n",
    "[GitHub/antononcube](https://github.com/antononcube).\n",
    "\n",
    "[AAp8] Anton Antonov,\n",
    "[Statistics::OutlierIdentifiers Raku package](https://github.com/antononcube/Raku-Statistics-OutlierIdentifiers),\n",
    "(2022),\n",
    "[GitHub/antononcube](https://github.com/antononcube)."
   ]
  },
  {
   "cell_type": "markdown",
   "metadata": {},
   "source": [
    "## Videos\n",
    "\n",
    "[CWv1] Chris Williamson,\n",
    "[\"Eric Weinstein - Are We On The Brink Of A Revolution? (4K)\"](https://www.youtube.com/watch?v=PYRYXhU4kxM),\n",
    "(2024),\n",
    "[YouTube/@ChrisWillx](https://www.youtube.com/@ChrisWillx).   \n",
    "([transcript](https://podscripts.co/podcasts/modern-wisdom/833-eric-weinstein-are-we-on-the-brink-of-a-revolution).)"
   ]
  }
 ],
 "metadata": {
  "kernelspec": {
   "display_name": "RakuChatbook",
   "language": "raku",
   "name": "raku"
  },
  "language_info": {
   "file_extension": ".raku",
   "mimetype": "text/x-raku",
   "name": "raku",
   "version": "6.d"
  }
 },
 "nbformat": 4,
 "nbformat_minor": 2
}
